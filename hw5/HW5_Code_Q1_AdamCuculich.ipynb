{
 "cells": [
  {
   "cell_type": "code",
   "execution_count": 1,
   "metadata": {},
   "outputs": [],
   "source": [
    "import pymc3 as pm\n",
    "import arviz as az\n",
    "import numpy as np"
   ]
  },
  {
   "cell_type": "markdown",
   "metadata": {},
   "source": [
    "# Data Extraction"
   ]
  },
  {
   "cell_type": "code",
   "execution_count": 2,
   "metadata": {},
   "outputs": [],
   "source": [
    "data_array = np.loadtxt('babies.csv', delimiter=',', skiprows=1)\n",
    "early_clamp_data = data_array[:, 0]\n",
    "late_clamp_data = data_array[:, 1]"
   ]
  },
  {
   "cell_type": "markdown",
   "metadata": {},
   "source": [
    "# Model"
   ]
  },
  {
   "cell_type": "code",
   "execution_count": 3,
   "metadata": {},
   "outputs": [
    {
     "name": "stderr",
     "output_type": "stream",
     "text": [
      "Auto-assigning NUTS sampler...\n",
      "Initializing NUTS using jitter+adapt_diag...\n",
      "Multiprocess sampling (4 chains in 4 jobs)\n",
      "NUTS: [b2, a2, b1, a1]\n"
     ]
    },
    {
     "data": {
      "text/html": [
       "\n",
       "<style>\n",
       "    /* Turns off some styling */\n",
       "    progress {\n",
       "        /* gets rid of default border in Firefox and Opera. */\n",
       "        border: none;\n",
       "        /* Needs to be in here for Safari polyfill so background images work as expected. */\n",
       "        background-size: auto;\n",
       "    }\n",
       "    progress:not([value]), progress:not([value])::-webkit-progress-bar {\n",
       "        background: repeating-linear-gradient(45deg, #7e7e7e, #7e7e7e 10px, #5c5c5c 10px, #5c5c5c 20px);\n",
       "    }\n",
       "    .progress-bar-interrupted, .progress-bar-interrupted::-webkit-progress-bar {\n",
       "        background: #F44336;\n",
       "    }\n",
       "</style>\n"
      ],
      "text/plain": [
       "<IPython.core.display.HTML object>"
      ]
     },
     "metadata": {},
     "output_type": "display_data"
    },
    {
     "data": {
      "text/html": [
       "\n",
       "    <div>\n",
       "      <progress value='16000' class='' max='16000' style='width:300px; height:20px; vertical-align: middle;'></progress>\n",
       "      100.00% [16000/16000 00:07&lt;00:00 Sampling 4 chains, 0 divergences]\n",
       "    </div>\n",
       "    "
      ],
      "text/plain": [
       "<IPython.core.display.HTML object>"
      ]
     },
     "metadata": {},
     "output_type": "display_data"
    },
    {
     "name": "stderr",
     "output_type": "stream",
     "text": [
      "/Users/adamcuculich/georgia-tech/bayesian-stats/env/lib/python3.9/site-packages/scipy/stats/_continuous_distns.py:624: RuntimeWarning: overflow encountered in _beta_ppf\n",
      "  return _boost._beta_ppf(q, a, b)\n",
      "/Users/adamcuculich/georgia-tech/bayesian-stats/env/lib/python3.9/site-packages/scipy/stats/_continuous_distns.py:624: RuntimeWarning: overflow encountered in _beta_ppf\n",
      "  return _boost._beta_ppf(q, a, b)\n",
      "/Users/adamcuculich/georgia-tech/bayesian-stats/env/lib/python3.9/site-packages/scipy/stats/_continuous_distns.py:624: RuntimeWarning: overflow encountered in _beta_ppf\n",
      "  return _boost._beta_ppf(q, a, b)\n",
      "/Users/adamcuculich/georgia-tech/bayesian-stats/env/lib/python3.9/site-packages/scipy/stats/_continuous_distns.py:624: RuntimeWarning: overflow encountered in _beta_ppf\n",
      "  return _boost._beta_ppf(q, a, b)\n",
      "Sampling 4 chains for 1_000 tune and 3_000 draw iterations (4_000 + 12_000 draws total) took 12 seconds.\n"
     ]
    }
   ],
   "source": [
    "with pm.Model() as m:\n",
    "    \n",
    "    # 1. Sample prior for early-clamp likelihood\n",
    "    a_1 = pm.Gamma(\"a1\", 0.001, 0.001) \n",
    "    b_1 = pm.Gamma(\"b1\", 0.001, 0.001) \n",
    "\n",
    "    # 2. Sample prior for late-clamp likelihood\n",
    "    a_2 = pm.Gamma(\"a2\", 0.001, 0.001) \n",
    "    b_2 = pm.Gamma(\"b2\", 0.001, 0.001) \n",
    "\n",
    "    # 3. Inject rate and shape parameters into the early-clamp likelihood\n",
    "    pm.Gamma(\"likelihood1\", a_1, b_1, observed=early_clamp_data)\n",
    "\n",
    "    # 4. Inject rate and shape parameters into the early-clamp likelihood\n",
    "    pm.Gamma(\"likelihood2\", a_2, b_2, observed=late_clamp_data)\n",
    "\n",
    "    # 5. Compute the difference in means\n",
    "    diff_in_means = pm.Deterministic('diff_in_means', (a_1/b_1) - (a_2/b_2))\n",
    "    \n",
    "    # 5. Create trace\n",
    "    trace = pm.sample(3000, target_accept=0.95, return_inferencedata=False)"
   ]
  },
  {
   "cell_type": "markdown",
   "metadata": {},
   "source": [
    "# Show Statistics"
   ]
  },
  {
   "cell_type": "code",
   "execution_count": 14,
   "metadata": {},
   "outputs": [
    {
     "name": "stderr",
     "output_type": "stream",
     "text": [
      "Got error No model on context stack. trying to find log_likelihood in translation.\n",
      "/Users/adamcuculich/georgia-tech/bayesian-stats/env/lib/python3.9/site-packages/arviz/data/io_pymc3_3x.py:98: FutureWarning: Using `from_pymc3` without the model will be deprecated in a future release. Not using the model will return less accurate and less useful results. Make sure you use the model argument or call from_pymc3 within a model context.\n",
      "  warnings.warn(\n"
     ]
    },
    {
     "data": {
      "text/html": [
       "<div>\n",
       "<style scoped>\n",
       "    .dataframe tbody tr th:only-of-type {\n",
       "        vertical-align: middle;\n",
       "    }\n",
       "\n",
       "    .dataframe tbody tr th {\n",
       "        vertical-align: top;\n",
       "    }\n",
       "\n",
       "    .dataframe thead th {\n",
       "        text-align: right;\n",
       "    }\n",
       "</style>\n",
       "<table border=\"1\" class=\"dataframe\">\n",
       "  <thead>\n",
       "    <tr style=\"text-align: right;\">\n",
       "      <th></th>\n",
       "      <th>mean</th>\n",
       "      <th>sd</th>\n",
       "      <th>hdi_5%</th>\n",
       "      <th>hdi_95%</th>\n",
       "      <th>mcse_mean</th>\n",
       "      <th>mcse_sd</th>\n",
       "      <th>ess_bulk</th>\n",
       "      <th>ess_tail</th>\n",
       "      <th>r_hat</th>\n",
       "    </tr>\n",
       "  </thead>\n",
       "  <tbody>\n",
       "    <tr>\n",
       "      <th>a1</th>\n",
       "      <td>34.779</td>\n",
       "      <td>12.584</td>\n",
       "      <td>15.134</td>\n",
       "      <td>54.905</td>\n",
       "      <td>0.208</td>\n",
       "      <td>0.147</td>\n",
       "      <td>3394.0</td>\n",
       "      <td>2997.0</td>\n",
       "      <td>1.0</td>\n",
       "    </tr>\n",
       "    <tr>\n",
       "      <th>b1</th>\n",
       "      <td>3.609</td>\n",
       "      <td>1.316</td>\n",
       "      <td>1.425</td>\n",
       "      <td>5.587</td>\n",
       "      <td>0.022</td>\n",
       "      <td>0.015</td>\n",
       "      <td>3388.0</td>\n",
       "      <td>3006.0</td>\n",
       "      <td>1.0</td>\n",
       "    </tr>\n",
       "    <tr>\n",
       "      <th>a2</th>\n",
       "      <td>28.042</td>\n",
       "      <td>10.216</td>\n",
       "      <td>11.828</td>\n",
       "      <td>43.611</td>\n",
       "      <td>0.173</td>\n",
       "      <td>0.122</td>\n",
       "      <td>3309.0</td>\n",
       "      <td>3340.0</td>\n",
       "      <td>1.0</td>\n",
       "    </tr>\n",
       "    <tr>\n",
       "      <th>b2</th>\n",
       "      <td>2.319</td>\n",
       "      <td>0.852</td>\n",
       "      <td>0.956</td>\n",
       "      <td>3.596</td>\n",
       "      <td>0.014</td>\n",
       "      <td>0.010</td>\n",
       "      <td>3300.0</td>\n",
       "      <td>3543.0</td>\n",
       "      <td>1.0</td>\n",
       "    </tr>\n",
       "    <tr>\n",
       "      <th>diff_in_means</th>\n",
       "      <td>-2.466</td>\n",
       "      <td>0.759</td>\n",
       "      <td>-3.667</td>\n",
       "      <td>-1.167</td>\n",
       "      <td>0.007</td>\n",
       "      <td>0.005</td>\n",
       "      <td>11876.0</td>\n",
       "      <td>8257.0</td>\n",
       "      <td>1.0</td>\n",
       "    </tr>\n",
       "  </tbody>\n",
       "</table>\n",
       "</div>"
      ],
      "text/plain": [
       "                 mean      sd  hdi_5%  hdi_95%  mcse_mean  mcse_sd  ess_bulk  \\\n",
       "a1             34.779  12.584  15.134   54.905      0.208    0.147    3394.0   \n",
       "b1              3.609   1.316   1.425    5.587      0.022    0.015    3388.0   \n",
       "a2             28.042  10.216  11.828   43.611      0.173    0.122    3309.0   \n",
       "b2              2.319   0.852   0.956    3.596      0.014    0.010    3300.0   \n",
       "diff_in_means  -2.466   0.759  -3.667   -1.167      0.007    0.005   11876.0   \n",
       "\n",
       "               ess_tail  r_hat  \n",
       "a1               2997.0    1.0  \n",
       "b1               3006.0    1.0  \n",
       "a2               3340.0    1.0  \n",
       "b2               3543.0    1.0  \n",
       "diff_in_means    8257.0    1.0  "
      ]
     },
     "execution_count": 14,
     "metadata": {},
     "output_type": "execute_result"
    }
   ],
   "source": [
    "az.summary(trace, hdi_prob=0.90)"
   ]
  },
  {
   "cell_type": "markdown",
   "metadata": {},
   "source": [
    "# Conclusion\n",
    "\n",
    "No, the 90% Credible Set does not contain 0 since the range is entirely below 0, from -3.667 to -1.167. This suggests that there is a statistically significant difference in the means of the two procedures at the 90% confidence level. In this case, since the 90% HDI for `diff_in_means` is entirely below zero, it suggests that the first mean is lower than the second with 90% confidence."
   ]
  }
 ],
 "metadata": {
  "kernelspec": {
   "display_name": "env",
   "language": "python",
   "name": "python3"
  },
  "language_info": {
   "codemirror_mode": {
    "name": "ipython",
    "version": 3
   },
   "file_extension": ".py",
   "mimetype": "text/x-python",
   "name": "python",
   "nbconvert_exporter": "python",
   "pygments_lexer": "ipython3",
   "version": "3.9.5"
  }
 },
 "nbformat": 4,
 "nbformat_minor": 2
}
