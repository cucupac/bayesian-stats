{
 "cells": [
  {
   "cell_type": "code",
   "execution_count": 1,
   "metadata": {},
   "outputs": [],
   "source": [
    "import pymc3 as pm\n",
    "import arviz as az\n",
    "import numpy as np"
   ]
  },
  {
   "cell_type": "markdown",
   "metadata": {},
   "source": [
    "# Data Extraction"
   ]
  },
  {
   "cell_type": "code",
   "execution_count": 2,
   "metadata": {},
   "outputs": [],
   "source": [
    "data_array = np.loadtxt('iop.csv', delimiter=',')\n",
    "# Extract the IOP data\n",
    "low_iop_indicators = data_array[:, 0]\n",
    "\n",
    "# Extract the cornea_thickness data\n",
    "cornea_thickness = data_array[:, 1]\n",
    "\n",
    "# Standardize the cornea_thickness data\n",
    "cornea_thickness_std = (cornea_thickness - cornea_thickness.mean()) / (2 * cornea_thickness.std())"
   ]
  },
  {
   "cell_type": "markdown",
   "metadata": {},
   "source": [
    "# Logit Model"
   ]
  },
  {
   "cell_type": "code",
   "execution_count": 4,
   "metadata": {},
   "outputs": [
    {
     "name": "stderr",
     "output_type": "stream",
     "text": [
      "Auto-assigning NUTS sampler...\n",
      "Initializing NUTS using jitter+adapt_diag...\n",
      "Multiprocess sampling (4 chains in 4 jobs)\n",
      "NUTS: [slope, intercept]\n"
     ]
    },
    {
     "data": {
      "text/html": [
       "\n",
       "<style>\n",
       "    /* Turns off some styling */\n",
       "    progress {\n",
       "        /* gets rid of default border in Firefox and Opera. */\n",
       "        border: none;\n",
       "        /* Needs to be in here for Safari polyfill so background images work as expected. */\n",
       "        background-size: auto;\n",
       "    }\n",
       "    progress:not([value]), progress:not([value])::-webkit-progress-bar {\n",
       "        background: repeating-linear-gradient(45deg, #7e7e7e, #7e7e7e 10px, #5c5c5c 10px, #5c5c5c 20px);\n",
       "    }\n",
       "    .progress-bar-interrupted, .progress-bar-interrupted::-webkit-progress-bar {\n",
       "        background: #F44336;\n",
       "    }\n",
       "</style>\n"
      ],
      "text/plain": [
       "<IPython.core.display.HTML object>"
      ]
     },
     "metadata": {},
     "output_type": "display_data"
    },
    {
     "data": {
      "text/html": [
       "\n",
       "    <div>\n",
       "      <progress value='24000' class='' max='24000' style='width:300px; height:20px; vertical-align: middle;'></progress>\n",
       "      100.00% [24000/24000 00:01&lt;00:00 Sampling 4 chains, 0 divergences]\n",
       "    </div>\n",
       "    "
      ],
      "text/plain": [
       "<IPython.core.display.HTML object>"
      ]
     },
     "metadata": {},
     "output_type": "display_data"
    },
    {
     "name": "stderr",
     "output_type": "stream",
     "text": [
      "/Users/adamcuculich/georgia-tech/bayesian-stats/env/lib/python3.9/site-packages/scipy/stats/_continuous_distns.py:624: RuntimeWarning: overflow encountered in _beta_ppf\n",
      "  return _boost._beta_ppf(q, a, b)\n",
      "/Users/adamcuculich/georgia-tech/bayesian-stats/env/lib/python3.9/site-packages/scipy/stats/_continuous_distns.py:624: RuntimeWarning: overflow encountered in _beta_ppf\n",
      "  return _boost._beta_ppf(q, a, b)\n",
      "/Users/adamcuculich/georgia-tech/bayesian-stats/env/lib/python3.9/site-packages/scipy/stats/_continuous_distns.py:624: RuntimeWarning: overflow encountered in _beta_ppf\n",
      "  return _boost._beta_ppf(q, a, b)\n",
      "/Users/adamcuculich/georgia-tech/bayesian-stats/env/lib/python3.9/site-packages/scipy/stats/_continuous_distns.py:624: RuntimeWarning: overflow encountered in _beta_ppf\n",
      "  return _boost._beta_ppf(q, a, b)\n",
      "Sampling 4 chains for 1_000 tune and 5_000 draw iterations (4_000 + 20_000 draws total) took 6 seconds.\n"
     ]
    }
   ],
   "source": [
    "with pm.Model() as m_logit:\n",
    "    # Data\n",
    "    x_data = pm.Data(\"x_data\", cornea_thickness_std) # use standardized data\n",
    "    y_data = pm.Data(\"y_data\", low_iop_indicators)\n",
    "\n",
    "    # Priors\n",
    "    intercept = pm.Normal(\"intercept\", mu=0, sigma=10)\n",
    "    slope = pm.Normal(\"slope\", mu=0, sigma=5)\n",
    "\n",
    "    # Logistic function\n",
    "    p = pm.math.invlogit(intercept + slope * x_data)\n",
    "\n",
    "    # Likelihood\n",
    "    pm.Bernoulli(\"y\", p=p, observed=y_data)\n",
    "\n",
    "    # Sample\n",
    "    trace_logit = pm.sample(5000, idata_kwargs=dict(log_likelihood=True), return_inferencedata=False)"
   ]
  },
  {
   "cell_type": "markdown",
   "metadata": {},
   "source": [
    "# Probit Model"
   ]
  },
  {
   "cell_type": "code",
   "execution_count": 6,
   "metadata": {},
   "outputs": [
    {
     "name": "stderr",
     "output_type": "stream",
     "text": [
      "Auto-assigning NUTS sampler...\n",
      "Initializing NUTS using jitter+adapt_diag...\n",
      "ERROR (theano.graph.opt): Optimization failure due to: local_grad_log_erfc_neg\n",
      "ERROR (theano.graph.opt): node: Elemwise{true_div,no_inplace}(Elemwise{mul,no_inplace}.0, Elemwise{erfc,no_inplace}.0)\n",
      "ERROR (theano.graph.opt): TRACEBACK:\n",
      "ERROR (theano.graph.opt): Traceback (most recent call last):\n",
      "  File \"/Users/adamcuculich/georgia-tech/bayesian-stats/env/lib/python3.9/site-packages/theano/graph/opt.py\", line 2017, in process_node\n",
      "    replacements = lopt.transform(fgraph, node)\n",
      "  File \"/Users/adamcuculich/georgia-tech/bayesian-stats/env/lib/python3.9/site-packages/theano/graph/opt.py\", line 1209, in transform\n",
      "    return self.fn(*args, **kwargs)\n",
      "  File \"/Users/adamcuculich/georgia-tech/bayesian-stats/env/lib/python3.9/site-packages/theano/tensor/opt.py\", line 7291, in local_grad_log_erfc_neg\n",
      "    if not exp_in.owner.inputs[0].owner:\n",
      "AttributeError: 'NoneType' object has no attribute 'owner'\n",
      "\n",
      "Multiprocess sampling (4 chains in 4 jobs)\n",
      "NUTS: [slope, intercept]\n"
     ]
    },
    {
     "data": {
      "text/html": [
       "\n",
       "<style>\n",
       "    /* Turns off some styling */\n",
       "    progress {\n",
       "        /* gets rid of default border in Firefox and Opera. */\n",
       "        border: none;\n",
       "        /* Needs to be in here for Safari polyfill so background images work as expected. */\n",
       "        background-size: auto;\n",
       "    }\n",
       "    progress:not([value]), progress:not([value])::-webkit-progress-bar {\n",
       "        background: repeating-linear-gradient(45deg, #7e7e7e, #7e7e7e 10px, #5c5c5c 10px, #5c5c5c 20px);\n",
       "    }\n",
       "    .progress-bar-interrupted, .progress-bar-interrupted::-webkit-progress-bar {\n",
       "        background: #F44336;\n",
       "    }\n",
       "</style>\n"
      ],
      "text/plain": [
       "<IPython.core.display.HTML object>"
      ]
     },
     "metadata": {},
     "output_type": "display_data"
    },
    {
     "data": {
      "text/html": [
       "\n",
       "    <div>\n",
       "      <progress value='24000' class='' max='24000' style='width:300px; height:20px; vertical-align: middle;'></progress>\n",
       "      100.00% [24000/24000 00:01&lt;00:00 Sampling 4 chains, 0 divergences]\n",
       "    </div>\n",
       "    "
      ],
      "text/plain": [
       "<IPython.core.display.HTML object>"
      ]
     },
     "metadata": {},
     "output_type": "display_data"
    },
    {
     "name": "stderr",
     "output_type": "stream",
     "text": [
      "/Users/adamcuculich/georgia-tech/bayesian-stats/env/lib/python3.9/site-packages/scipy/stats/_continuous_distns.py:624: RuntimeWarning: overflow encountered in _beta_ppf\n",
      "  return _boost._beta_ppf(q, a, b)\n",
      "/Users/adamcuculich/georgia-tech/bayesian-stats/env/lib/python3.9/site-packages/scipy/stats/_continuous_distns.py:624: RuntimeWarning: overflow encountered in _beta_ppf\n",
      "  return _boost._beta_ppf(q, a, b)\n",
      "/Users/adamcuculich/georgia-tech/bayesian-stats/env/lib/python3.9/site-packages/scipy/stats/_continuous_distns.py:624: RuntimeWarning: overflow encountered in _beta_ppf\n",
      "  return _boost._beta_ppf(q, a, b)\n",
      "/Users/adamcuculich/georgia-tech/bayesian-stats/env/lib/python3.9/site-packages/scipy/stats/_continuous_distns.py:624: RuntimeWarning: overflow encountered in _beta_ppf\n",
      "  return _boost._beta_ppf(q, a, b)\n",
      "Sampling 4 chains for 1_000 tune and 5_000 draw iterations (4_000 + 20_000 draws total) took 6 seconds.\n"
     ]
    }
   ],
   "source": [
    "with pm.Model() as m_probit:\n",
    "    # Data\n",
    "    x_data = pm.Data(\"x_data_probit\", cornea_thickness_std) # use standardized data\n",
    "    y_data = pm.Data(\"y_data_probit\", low_iop_indicators)\n",
    "\n",
    "    # Priors\n",
    "    intercept = pm.Normal(\"intercept\", mu=0, sigma=10)\n",
    "    slope = pm.Normal(\"slope\", mu=0, sigma=5)\n",
    "\n",
    "    # Probit function\n",
    "    p = pm.math.invprobit(intercept + slope * x_data)\n",
    "\n",
    "    # Likelihood\n",
    "    pm.Bernoulli(\"y\", p=p, observed=y_data)\n",
    "\n",
    "    # Sample\n",
    "    trace_probit = pm.sample(5000, idata_kwargs=dict(log_likelihood=True), return_inferencedata=False)"
   ]
  },
  {
   "cell_type": "markdown",
   "metadata": {},
   "source": [
    "# Deviance"
   ]
  },
  {
   "cell_type": "code",
   "execution_count": 10,
   "metadata": {},
   "outputs": [
    {
     "name": "stdout",
     "output_type": "stream",
     "text": [
      "Deviance for logit model: 136.5728992407411\n",
      "Deviance for probit model: 136.00296371082013\n"
     ]
    }
   ],
   "source": [
    "# Compute deviance for logit model\n",
    "with m_logit:\n",
    "    deviance_logit = az.waic(trace_logit, scale=\"deviance\")\n",
    "    print(f\"Deviance for logit model: {deviance_logit.waic}\")\n",
    "\n",
    "# Compute deviance for probit model\n",
    "with m_probit:\n",
    "    deviance_probit = az.waic(trace_probit, scale=\"deviance\")\n",
    "    print(f\"Deviance for probit model: {deviance_probit.waic}\")\n",
    "\n",
    "\n"
   ]
  },
  {
   "cell_type": "markdown",
   "metadata": {},
   "source": [
    "# Conclusion\n",
    "\n",
    "As shown above, the deviance for the probit model is slightly smaller than that of the logit model, thereby suggesting that the probit model has a slightly better fit."
   ]
  }
 ],
 "metadata": {
  "kernelspec": {
   "display_name": "env",
   "language": "python",
   "name": "python3"
  },
  "language_info": {
   "codemirror_mode": {
    "name": "ipython",
    "version": 3
   },
   "file_extension": ".py",
   "mimetype": "text/x-python",
   "name": "python",
   "nbconvert_exporter": "python",
   "pygments_lexer": "ipython3",
   "version": "3.9.5"
  }
 },
 "nbformat": 4,
 "nbformat_minor": 2
}
