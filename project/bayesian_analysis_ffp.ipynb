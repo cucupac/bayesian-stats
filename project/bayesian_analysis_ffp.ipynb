{
 "cells": [
  {
   "cell_type": "markdown",
   "metadata": {},
   "source": [
    "# Imports"
   ]
  },
  {
   "cell_type": "code",
   "execution_count": 1,
   "metadata": {},
   "outputs": [],
   "source": [
    "import arviz as az\n",
    "import pymc3 as pm\n",
    "import numpy as np\n",
    "import matplotlib.pyplot as plt\n",
    "\n",
    "from data_collection.nwi_cities import NWI_CITIES"
   ]
  },
  {
   "cell_type": "markdown",
   "metadata": {},
   "source": [
    "# Data Extraction"
   ]
  },
  {
   "cell_type": "code",
   "execution_count": 2,
   "metadata": {},
   "outputs": [],
   "source": [
    "FAST_FOOD_PERCENTAGES = np.array([city_data['fast_food_percentage'] for city_data in NWI_CITIES.values()])  # Fast-food percentages\n",
    "MEDIAN_INCOMES = np.array([city_data['median_income'] for city_data in NWI_CITIES.values()])  # Median incomes\n",
    "\n",
    "# Standardizing the data\n",
    "ffp_standardized = (FAST_FOOD_PERCENTAGES - np.mean(FAST_FOOD_PERCENTAGES)) / np.std(FAST_FOOD_PERCENTAGES)\n",
    "mi_standardized = (MEDIAN_INCOMES - np.mean(MEDIAN_INCOMES)) / np.std(MEDIAN_INCOMES)\n",
    "\n"
   ]
  },
  {
   "cell_type": "markdown",
   "metadata": {},
   "source": [
    "# Model"
   ]
  },
  {
   "cell_type": "code",
   "execution_count": 15,
   "metadata": {},
   "outputs": [
    {
     "name": "stderr",
     "output_type": "stream",
     "text": [
      "/Users/adamcuculich/georgia-tech/bayesian-stats/env/lib/python3.9/site-packages/deprecat/classic.py:215: FutureWarning: In v4.0, pm.sample will return an `arviz.InferenceData` object instead of a `MultiTrace` by default. You can pass return_inferencedata=True or return_inferencedata=False to be safe and silence this warning.\n",
      "  return wrapped_(*args_, **kwargs_)\n",
      "Auto-assigning NUTS sampler...\n",
      "Initializing NUTS using jitter+adapt_diag...\n",
      "Multiprocess sampling (4 chains in 4 jobs)\n",
      "NUTS: [tau, Beta, Intercept]\n"
     ]
    },
    {
     "data": {
      "text/html": [
       "\n",
       "<style>\n",
       "    /* Turns off some styling */\n",
       "    progress {\n",
       "        /* gets rid of default border in Firefox and Opera. */\n",
       "        border: none;\n",
       "        /* Needs to be in here for Safari polyfill so background images work as expected. */\n",
       "        background-size: auto;\n",
       "    }\n",
       "    progress:not([value]), progress:not([value])::-webkit-progress-bar {\n",
       "        background: repeating-linear-gradient(45deg, #7e7e7e, #7e7e7e 10px, #5c5c5c 10px, #5c5c5c 20px);\n",
       "    }\n",
       "    .progress-bar-interrupted, .progress-bar-interrupted::-webkit-progress-bar {\n",
       "        background: #F44336;\n",
       "    }\n",
       "</style>\n"
      ],
      "text/plain": [
       "<IPython.core.display.HTML object>"
      ]
     },
     "metadata": {},
     "output_type": "display_data"
    },
    {
     "data": {
      "text/html": [
       "\n",
       "    <div>\n",
       "      <progress value='16000' class='' max='16000' style='width:300px; height:20px; vertical-align: middle;'></progress>\n",
       "      100.00% [16000/16000 00:01&lt;00:00 Sampling 4 chains, 0 divergences]\n",
       "    </div>\n",
       "    "
      ],
      "text/plain": [
       "<IPython.core.display.HTML object>"
      ]
     },
     "metadata": {},
     "output_type": "display_data"
    },
    {
     "name": "stderr",
     "output_type": "stream",
     "text": [
      "/Users/adamcuculich/georgia-tech/bayesian-stats/env/lib/python3.9/site-packages/scipy/stats/_continuous_distns.py:624: RuntimeWarning: overflow encountered in _beta_ppf\n",
      "  return _boost._beta_ppf(q, a, b)\n",
      "/Users/adamcuculich/georgia-tech/bayesian-stats/env/lib/python3.9/site-packages/scipy/stats/_continuous_distns.py:624: RuntimeWarning: overflow encountered in _beta_ppf\n",
      "  return _boost._beta_ppf(q, a, b)\n",
      "/Users/adamcuculich/georgia-tech/bayesian-stats/env/lib/python3.9/site-packages/scipy/stats/_continuous_distns.py:624: RuntimeWarning: overflow encountered in _beta_ppf\n",
      "  return _boost._beta_ppf(q, a, b)\n",
      "/Users/adamcuculich/georgia-tech/bayesian-stats/env/lib/python3.9/site-packages/scipy/stats/_continuous_distns.py:624: RuntimeWarning: overflow encountered in _beta_ppf\n",
      "  return _boost._beta_ppf(q, a, b)\n",
      "Sampling 4 chains for 1_000 tune and 3_000 draw iterations (4_000 + 12_000 draws total) took 6 seconds.\n"
     ]
    }
   ],
   "source": [
    "with pm.Model() as income_model:\n",
    "    # Data\n",
    "    x_data = pm.Data(\"x_data\", ffp_standardized)\n",
    "    y_data = pm.Data(\"y_data\", mi_standardized)\n",
    "\n",
    "    # Priors\n",
    "    intercept = pm.Normal('Intercept', mu=0, sigma=10)\n",
    "    beta = pm.Normal('Beta', mu=0, sigma=10)\n",
    "    tau = pm.Gamma(\"tau\", alpha=0.001, beta=0.001)\n",
    "\n",
    "    # Linear model\n",
    "    mu = intercept + beta * x_data\n",
    "\n",
    "    # Likelihood\n",
    "    likelihood = pm.Normal('likelihood', mu=mu, tau=tau, observed=y_data)\n",
    "\n",
    "    # Posterior sampling\n",
    "    trace = pm.sample(3000, target_accept=0.95)"
   ]
  },
  {
   "cell_type": "markdown",
   "metadata": {},
   "source": [
    "# Statistical Summary"
   ]
  },
  {
   "cell_type": "code",
   "execution_count": 16,
   "metadata": {},
   "outputs": [
    {
     "name": "stderr",
     "output_type": "stream",
     "text": [
      "Got error No model on context stack. trying to find log_likelihood in translation.\n",
      "/Users/adamcuculich/georgia-tech/bayesian-stats/env/lib/python3.9/site-packages/arviz/data/io_pymc3_3x.py:98: FutureWarning: Using `from_pymc3` without the model will be deprecated in a future release. Not using the model will return less accurate and less useful results. Make sure you use the model argument or call from_pymc3 within a model context.\n",
      "  warnings.warn(\n"
     ]
    },
    {
     "data": {
      "text/html": [
       "<div>\n",
       "<style scoped>\n",
       "    .dataframe tbody tr th:only-of-type {\n",
       "        vertical-align: middle;\n",
       "    }\n",
       "\n",
       "    .dataframe tbody tr th {\n",
       "        vertical-align: top;\n",
       "    }\n",
       "\n",
       "    .dataframe thead th {\n",
       "        text-align: right;\n",
       "    }\n",
       "</style>\n",
       "<table border=\"1\" class=\"dataframe\">\n",
       "  <thead>\n",
       "    <tr style=\"text-align: right;\">\n",
       "      <th></th>\n",
       "      <th>mean</th>\n",
       "      <th>sd</th>\n",
       "      <th>hdi_3%</th>\n",
       "      <th>hdi_97%</th>\n",
       "      <th>mcse_mean</th>\n",
       "      <th>mcse_sd</th>\n",
       "      <th>ess_bulk</th>\n",
       "      <th>ess_tail</th>\n",
       "      <th>r_hat</th>\n",
       "    </tr>\n",
       "  </thead>\n",
       "  <tbody>\n",
       "    <tr>\n",
       "      <th>Intercept</th>\n",
       "      <td>-0.003</td>\n",
       "      <td>0.196</td>\n",
       "      <td>-0.377</td>\n",
       "      <td>0.361</td>\n",
       "      <td>0.002</td>\n",
       "      <td>0.002</td>\n",
       "      <td>10212.0</td>\n",
       "      <td>7819.0</td>\n",
       "      <td>1.0</td>\n",
       "    </tr>\n",
       "    <tr>\n",
       "      <th>Beta</th>\n",
       "      <td>-0.394</td>\n",
       "      <td>0.197</td>\n",
       "      <td>-0.767</td>\n",
       "      <td>-0.031</td>\n",
       "      <td>0.002</td>\n",
       "      <td>0.001</td>\n",
       "      <td>10047.0</td>\n",
       "      <td>7469.0</td>\n",
       "      <td>1.0</td>\n",
       "    </tr>\n",
       "    <tr>\n",
       "      <th>tau</th>\n",
       "      <td>1.101</td>\n",
       "      <td>0.318</td>\n",
       "      <td>0.540</td>\n",
       "      <td>1.689</td>\n",
       "      <td>0.003</td>\n",
       "      <td>0.002</td>\n",
       "      <td>9450.0</td>\n",
       "      <td>8269.0</td>\n",
       "      <td>1.0</td>\n",
       "    </tr>\n",
       "  </tbody>\n",
       "</table>\n",
       "</div>"
      ],
      "text/plain": [
       "            mean     sd  hdi_3%  hdi_97%  mcse_mean  mcse_sd  ess_bulk  \\\n",
       "Intercept -0.003  0.196  -0.377    0.361      0.002    0.002   10212.0   \n",
       "Beta      -0.394  0.197  -0.767   -0.031      0.002    0.001   10047.0   \n",
       "tau        1.101  0.318   0.540    1.689      0.003    0.002    9450.0   \n",
       "\n",
       "           ess_tail  r_hat  \n",
       "Intercept    7819.0    1.0  \n",
       "Beta         7469.0    1.0  \n",
       "tau          8269.0    1.0  "
      ]
     },
     "execution_count": 16,
     "metadata": {},
     "output_type": "execute_result"
    }
   ],
   "source": [
    "az.summary(trace)"
   ]
  },
  {
   "cell_type": "markdown",
   "metadata": {},
   "source": [
    "# Visualization"
   ]
  },
  {
   "cell_type": "code",
   "execution_count": 18,
   "metadata": {},
   "outputs": [
    {
     "data": {
      "image/png": "[encoded data removed]",
      "text/plain": [
       "<Figure size 640x480 with 1 Axes>"
      ]
     },
     "metadata": {},
     "output_type": "display_data"
    }
   ],
   "source": [
    "# Define the function to calculate the original scale predictions\n",
    "def predict_original_scale(x_range, intercept, beta, x_mean, x_std, y_mean, y_std):\n",
    "    x_standardized = (x_range - x_mean) / x_std\n",
    "    y_standardized_pred = intercept + beta * x_standardized\n",
    "    y_pred_original = y_standardized_pred * y_std + y_mean\n",
    "    return y_pred_original\n",
    "\n",
    "# Calculate the regression line based on the posterior mean of the parameters\n",
    "intercept_mean = np.mean(trace['Intercept'])\n",
    "beta_mean = np.mean(trace['Beta'])\n",
    "\n",
    "# The means and standard deviations used for standardizing the data\n",
    "x_mean = np.mean(FAST_FOOD_PERCENTAGES)\n",
    "x_std = np.std(FAST_FOOD_PERCENTAGES)\n",
    "y_mean = np.mean(MEDIAN_INCOMES)\n",
    "y_std = np.std(MEDIAN_INCOMES)\n",
    "\n",
    "# Generate the regression line in the original scale\n",
    "x_range_original = np.linspace(FAST_FOOD_PERCENTAGES.min(), FAST_FOOD_PERCENTAGES.max(), 100)\n",
    "y_pred_original = predict_original_scale(x_range_original, intercept_mean, beta_mean, x_mean, x_std, y_mean, y_std)\n",
    "\n",
    "# Plot the actual data\n",
    "plt.scatter(FAST_FOOD_PERCENTAGES, MEDIAN_INCOMES, color='blue', label='Actual Data')\n",
    "\n",
    "# Plot the regression line\n",
    "plt.plot(x_range_original, y_pred_original, color='red', label='Regression Line')\n",
    "\n",
    "# Labels and legend\n",
    "plt.xlabel('Fast Food Percentages')\n",
    "plt.ylabel('Median Incomes')\n",
    "plt.title('Fast Food Percentages vs Median Income')\n",
    "plt.legend()\n",
    "plt.show()"
   ]
  }
 ],
 "metadata": {
  "kernelspec": {
   "display_name": "env",
   "language": "python",
   "name": "python3"
  },
  "language_info": {
   "codemirror_mode": {
    "name": "ipython",
    "version": 3
   },
   "file_extension": ".py",
   "mimetype": "text/x-python",
   "name": "python",
   "nbconvert_exporter": "python",
   "pygments_lexer": "ipython3",
   "version": "3.9.5"
  }
 },
 "nbformat": 4,
 "nbformat_minor": 2
}
