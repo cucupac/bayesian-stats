{
 "cells": [
  {
   "cell_type": "markdown",
   "metadata": {},
   "source": [
    "# Imports"
   ]
  },
  {
   "cell_type": "code",
   "execution_count": 23,
   "metadata": {},
   "outputs": [],
   "source": [
    "import arviz as az\n",
    "import numpy as np\n",
    "import pymc3 as pm\n",
    "import matplotlib.pyplot as plt\n",
    "from sympy import symbols, exp, diff, solve"
   ]
  },
  {
   "cell_type": "markdown",
   "metadata": {},
   "source": [
    "# Data Extraction"
   ]
  },
  {
   "cell_type": "code",
   "execution_count": 18,
   "metadata": {},
   "outputs": [],
   "source": [
    "csv_data = np.loadtxt('problem3.csv', delimiter=',', skiprows=1)\n",
    "X = csv_data[:, 0]\n",
    "Y = csv_data[:, 1]"
   ]
  },
  {
   "cell_type": "markdown",
   "metadata": {},
   "source": [
    "# Optimization: Minimize Defects"
   ]
  },
  {
   "cell_type": "code",
   "execution_count": 19,
   "metadata": {},
   "outputs": [
    {
     "name": "stdout",
     "output_type": "stream",
     "text": [
      "[-beta1/(2*beta2)]\n"
     ]
    }
   ],
   "source": [
    "# Define the symbols\n",
    "beta0, beta1, beta2, x = symbols(\"beta0 beta1 beta2 x\", real=True)\n",
    "\n",
    "# Define the lambda function\n",
    "lambda_x = exp(beta0 + beta1 * x + beta2 * x**2)\n",
    "\n",
    "# Take the derivative with respect to x\n",
    "derivative = diff(lambda_x, x)\n",
    "\n",
    "# Solve the derivative equation for x\n",
    "solution = solve(derivative, x)\n",
    "\n",
    "print(solution)"
   ]
  },
  {
   "cell_type": "markdown",
   "metadata": {},
   "source": [
    "# Model"
   ]
  },
  {
   "cell_type": "code",
   "execution_count": 20,
   "metadata": {},
   "outputs": [
    {
     "name": "stderr",
     "output_type": "stream",
     "text": [
      "Auto-assigning NUTS sampler...\n",
      "Initializing NUTS using jitter+adapt_diag...\n",
      "Multiprocess sampling (4 chains in 4 jobs)\n",
      "NUTS: [beta2, beta1, beta0]\n"
     ]
    },
    {
     "data": {
      "text/html": [
       "\n",
       "<style>\n",
       "    /* Turns off some styling */\n",
       "    progress {\n",
       "        /* gets rid of default border in Firefox and Opera. */\n",
       "        border: none;\n",
       "        /* Needs to be in here for Safari polyfill so background images work as expected. */\n",
       "        background-size: auto;\n",
       "    }\n",
       "    progress:not([value]), progress:not([value])::-webkit-progress-bar {\n",
       "        background: repeating-linear-gradient(45deg, #7e7e7e, #7e7e7e 10px, #5c5c5c 10px, #5c5c5c 20px);\n",
       "    }\n",
       "    .progress-bar-interrupted, .progress-bar-interrupted::-webkit-progress-bar {\n",
       "        background: #F44336;\n",
       "    }\n",
       "</style>\n"
      ],
      "text/plain": [
       "<IPython.core.display.HTML object>"
      ]
     },
     "metadata": {},
     "output_type": "display_data"
    },
    {
     "data": {
      "text/html": [
       "\n",
       "    <div>\n",
       "      <progress value='48000' class='' max='48000' style='width:300px; height:20px; vertical-align: middle;'></progress>\n",
       "      100.00% [48000/48000 00:10&lt;00:00 Sampling 4 chains, 0 divergences]\n",
       "    </div>\n",
       "    "
      ],
      "text/plain": [
       "<IPython.core.display.HTML object>"
      ]
     },
     "metadata": {},
     "output_type": "display_data"
    },
    {
     "name": "stderr",
     "output_type": "stream",
     "text": [
      "/Users/adamcuculich/georgia-tech/bayesian-stats/env/lib/python3.9/site-packages/scipy/stats/_continuous_distns.py:624: RuntimeWarning: overflow encountered in _beta_ppf\n",
      "  return _boost._beta_ppf(q, a, b)\n",
      "/Users/adamcuculich/georgia-tech/bayesian-stats/env/lib/python3.9/site-packages/scipy/stats/_continuous_distns.py:624: RuntimeWarning: overflow encountered in _beta_ppf\n",
      "  return _boost._beta_ppf(q, a, b)\n",
      "/Users/adamcuculich/georgia-tech/bayesian-stats/env/lib/python3.9/site-packages/scipy/stats/_continuous_distns.py:624: RuntimeWarning: overflow encountered in _beta_ppf\n",
      "  return _boost._beta_ppf(q, a, b)\n",
      "/Users/adamcuculich/georgia-tech/bayesian-stats/env/lib/python3.9/site-packages/scipy/stats/_continuous_distns.py:624: RuntimeWarning: overflow encountered in _beta_ppf\n",
      "  return _boost._beta_ppf(q, a, b)\n",
      "Sampling 4 chains for 1_000 tune and 11_000 draw iterations (4_000 + 44_000 draws total) took 15 seconds.\n",
      "The number of effective samples is smaller than 25% for some parameters.\n"
     ]
    }
   ],
   "source": [
    "with pm.Model() as model:\n",
    "    # Data\n",
    "    x_data = pm.Data(\"x_data\", X)\n",
    "    y_data = pm.Data(\"y_data\", Y)\n",
    "\n",
    "    # Priors\n",
    "    beta0 = pm.Normal('beta0', mu=0, sigma=100)\n",
    "    beta1 = pm.Normal('beta1', mu=0, sigma=100)\n",
    "    beta2 = pm.Normal('beta2', mu=0, sigma=100)\n",
    "\n",
    "    # Mean of the Poisson distribution: λ(x)\n",
    "    lambda_x = pm.math.exp(beta0 + (beta1 * x_data) + (beta2 * x_data ** 2))\n",
    "\n",
    "    # Formula for mimizing defects: comes from the optimization above\n",
    "    pm.Deterministic(\"conc_min\", - beta1 / (2*beta2))\n",
    "\n",
    "    # Poisson likelihood\n",
    "    y = pm.Poisson('y', mu=lambda_x, observed=y_data)\n",
    "\n",
    "    # Posterior Sampling\n",
    "    trace = pm.sample(11000, tune=1000, target_accept=0.95, return_inferencedata=True)"
   ]
  },
  {
   "cell_type": "markdown",
   "metadata": {},
   "source": [
    "# Show Statistics"
   ]
  },
  {
   "cell_type": "code",
   "execution_count": 21,
   "metadata": {},
   "outputs": [
    {
     "data": {
      "text/html": [
       "<div>\n",
       "<style scoped>\n",
       "    .dataframe tbody tr th:only-of-type {\n",
       "        vertical-align: middle;\n",
       "    }\n",
       "\n",
       "    .dataframe tbody tr th {\n",
       "        vertical-align: top;\n",
       "    }\n",
       "\n",
       "    .dataframe thead th {\n",
       "        text-align: right;\n",
       "    }\n",
       "</style>\n",
       "<table border=\"1\" class=\"dataframe\">\n",
       "  <thead>\n",
       "    <tr style=\"text-align: right;\">\n",
       "      <th></th>\n",
       "      <th>mean</th>\n",
       "      <th>sd</th>\n",
       "      <th>hdi_2.5%</th>\n",
       "      <th>hdi_97.5%</th>\n",
       "      <th>mcse_mean</th>\n",
       "      <th>mcse_sd</th>\n",
       "      <th>ess_bulk</th>\n",
       "      <th>ess_tail</th>\n",
       "      <th>r_hat</th>\n",
       "    </tr>\n",
       "  </thead>\n",
       "  <tbody>\n",
       "    <tr>\n",
       "      <th>beta0</th>\n",
       "      <td>1.319</td>\n",
       "      <td>0.129</td>\n",
       "      <td>1.067</td>\n",
       "      <td>1.571</td>\n",
       "      <td>0.001</td>\n",
       "      <td>0.001</td>\n",
       "      <td>11138.0</td>\n",
       "      <td>13152.0</td>\n",
       "      <td>1.0</td>\n",
       "    </tr>\n",
       "    <tr>\n",
       "      <th>beta1</th>\n",
       "      <td>-4.151</td>\n",
       "      <td>0.712</td>\n",
       "      <td>-5.534</td>\n",
       "      <td>-2.758</td>\n",
       "      <td>0.007</td>\n",
       "      <td>0.005</td>\n",
       "      <td>9529.0</td>\n",
       "      <td>10483.0</td>\n",
       "      <td>1.0</td>\n",
       "    </tr>\n",
       "    <tr>\n",
       "      <th>beta2</th>\n",
       "      <td>3.141</td>\n",
       "      <td>0.738</td>\n",
       "      <td>1.702</td>\n",
       "      <td>4.583</td>\n",
       "      <td>0.007</td>\n",
       "      <td>0.005</td>\n",
       "      <td>10011.0</td>\n",
       "      <td>11826.0</td>\n",
       "      <td>1.0</td>\n",
       "    </tr>\n",
       "    <tr>\n",
       "      <th>conc_min</th>\n",
       "      <td>0.675</td>\n",
       "      <td>0.079</td>\n",
       "      <td>0.568</td>\n",
       "      <td>0.814</td>\n",
       "      <td>0.001</td>\n",
       "      <td>0.000</td>\n",
       "      <td>15740.0</td>\n",
       "      <td>17300.0</td>\n",
       "      <td>1.0</td>\n",
       "    </tr>\n",
       "  </tbody>\n",
       "</table>\n",
       "</div>"
      ],
      "text/plain": [
       "           mean     sd  hdi_2.5%  hdi_97.5%  mcse_mean  mcse_sd  ess_bulk  \\\n",
       "beta0     1.319  0.129     1.067      1.571      0.001    0.001   11138.0   \n",
       "beta1    -4.151  0.712    -5.534     -2.758      0.007    0.005    9529.0   \n",
       "beta2     3.141  0.738     1.702      4.583      0.007    0.005   10011.0   \n",
       "conc_min  0.675  0.079     0.568      0.814      0.001    0.000   15740.0   \n",
       "\n",
       "          ess_tail  r_hat  \n",
       "beta0      13152.0    1.0  \n",
       "beta1      10483.0    1.0  \n",
       "beta2      11826.0    1.0  \n",
       "conc_min   17300.0    1.0  "
      ]
     },
     "execution_count": 21,
     "metadata": {},
     "output_type": "execute_result"
    }
   ],
   "source": [
    "az.summary(trace, hdi_prob=0.95)"
   ]
  },
  {
   "cell_type": "markdown",
   "metadata": {},
   "source": [
    "# Visual"
   ]
  },
  {
   "cell_type": "code",
   "execution_count": 25,
   "metadata": {},
   "outputs": [
    {
     "data": {
      "image/png": "[encoded data removed]",
      "text/plain": [
       "<Figure size 1000x600 with 1 Axes>"
      ]
     },
     "metadata": {},
     "output_type": "display_data"
    }
   ],
   "source": [
    "posterior_mean_beta0 = np.mean(trace.posterior.beta0.values)\n",
    "posterior_mean_beta1 = np.mean(trace.posterior.beta1.values)\n",
    "posterior_mean_beta2 = np.mean(trace.posterior.beta2.values)\n",
    "posterior_mean_conc_min = np.mean(trace.posterior.conc_min.values)\n",
    "\n",
    "def lambda_x(x):\n",
    "    return np.exp(posterior_mean_beta0 + posterior_mean_beta1 * x + posterior_mean_beta2 * x**2)\n",
    "\n",
    "# Generate a range of x values within the 0 to 1 bounds\n",
    "x_values = np.linspace(0, 1, 400)\n",
    "y_values = lambda_x(x_values)\n",
    "\n",
    "# Plot the function\n",
    "plt.figure(figsize=(10, 6))\n",
    "plt.plot(x_values, y_values, label=r'$\\lambda(x) = \\exp\\{\\beta_0 + \\beta_1 x + \\beta_2 x^2\\}$')\n",
    "plt.axvline(x=posterior_mean_conc_min, color='r', linestyle='--', label='Concentration Minimizing Defects (x ≈ {:.3f})'.format(posterior_mean_conc_min))\n",
    "plt.xlabel('Concentration (x)')\n",
    "plt.ylabel('Expected Number of Defects (λ(x))')\n",
    "plt.title('Poisson Regression Mean Function')\n",
    "plt.legend()\n",
    "plt.grid(True)\n",
    "plt.show()"
   ]
  },
  {
   "cell_type": "markdown",
   "metadata": {},
   "source": [
    "# Comments\n",
    "\n",
    "The above graph illustrates that the obtained defect-minimizing concentration is indeed a minimum (and not a maximum)."
   ]
  }
 ],
 "metadata": {
  "kernelspec": {
   "display_name": "env",
   "language": "python",
   "name": "python3"
  },
  "language_info": {
   "codemirror_mode": {
    "name": "ipython",
    "version": 3
   },
   "file_extension": ".py",
   "mimetype": "text/x-python",
   "name": "python",
   "nbconvert_exporter": "python",
   "pygments_lexer": "ipython3",
   "version": "3.9.5"
  }
 },
 "nbformat": 4,
 "nbformat_minor": 2
}
