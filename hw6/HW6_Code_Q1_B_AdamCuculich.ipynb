{
 "cells": [
  {
   "cell_type": "markdown",
   "metadata": {},
   "source": [
    "# Data Extraction"
   ]
  },
  {
   "cell_type": "code",
   "execution_count": 1,
   "metadata": {},
   "outputs": [],
   "source": [
    "import arviz as az\n",
    "import numpy as np\n",
    "import pymc3 as pm\n",
    "\n",
    "time_after_injection = np.array([24, 32, 48, 56, np.nan, 70, 72, 75, 80, 96])\n",
    "temperature = np.array([102.8, 104.5, 106.5, 107.0, 107.2, 105.1, 103.9, np.nan, 103.2, 102.1])"
   ]
  },
  {
   "cell_type": "markdown",
   "metadata": {},
   "source": [
    "# Model"
   ]
  },
  {
   "cell_type": "code",
   "execution_count": 4,
   "metadata": {},
   "outputs": [
    {
     "name": "stderr",
     "output_type": "stream",
     "text": [
      "/Users/adamcuculich/georgia-tech/bayesian-stats/env/lib/python3.9/site-packages/pymc3/model.py:1755: ImputationWarning: Data in time_imputed contains missing values and will be automatically imputed from the sampling distribution.\n",
      "  warnings.warn(impute_message, ImputationWarning)\n",
      "/Users/adamcuculich/georgia-tech/bayesian-stats/env/lib/python3.9/site-packages/pymc3/model.py:1755: ImputationWarning: Data in likelihood contains missing values and will be automatically imputed from the sampling distribution.\n",
      "  warnings.warn(impute_message, ImputationWarning)\n",
      "/Users/adamcuculich/georgia-tech/bayesian-stats/env/lib/python3.9/site-packages/deprecat/classic.py:215: FutureWarning: In v4.0, pm.sample will return an `arviz.InferenceData` object instead of a `MultiTrace` by default. You can pass return_inferencedata=True or return_inferencedata=False to be safe and silence this warning.\n",
      "  return wrapped_(*args_, **kwargs_)\n",
      "Auto-assigning NUTS sampler...\n",
      "Initializing NUTS using jitter+adapt_diag...\n",
      "Multiprocess sampling (4 chains in 4 jobs)\n",
      "NUTS: [likelihood_missing, time_imputed_missing, tau, beta2, beta1, alpha]\n"
     ]
    },
    {
     "data": {
      "text/html": [
       "\n",
       "<style>\n",
       "    /* Turns off some styling */\n",
       "    progress {\n",
       "        /* gets rid of default border in Firefox and Opera. */\n",
       "        border: none;\n",
       "        /* Needs to be in here for Safari polyfill so background images work as expected. */\n",
       "        background-size: auto;\n",
       "    }\n",
       "    progress:not([value]), progress:not([value])::-webkit-progress-bar {\n",
       "        background: repeating-linear-gradient(45deg, #7e7e7e, #7e7e7e 10px, #5c5c5c 10px, #5c5c5c 20px);\n",
       "    }\n",
       "    .progress-bar-interrupted, .progress-bar-interrupted::-webkit-progress-bar {\n",
       "        background: #F44336;\n",
       "    }\n",
       "</style>\n"
      ],
      "text/plain": [
       "<IPython.core.display.HTML object>"
      ]
     },
     "metadata": {},
     "output_type": "display_data"
    },
    {
     "data": {
      "text/html": [
       "\n",
       "    <div>\n",
       "      <progress value='16000' class='' max='16000' style='width:300px; height:20px; vertical-align: middle;'></progress>\n",
       "      100.00% [16000/16000 00:25&lt;00:00 Sampling 4 chains, 0 divergences]\n",
       "    </div>\n",
       "    "
      ],
      "text/plain": [
       "<IPython.core.display.HTML object>"
      ]
     },
     "metadata": {},
     "output_type": "display_data"
    },
    {
     "name": "stderr",
     "output_type": "stream",
     "text": [
      "/Users/adamcuculich/georgia-tech/bayesian-stats/env/lib/python3.9/site-packages/scipy/stats/_continuous_distns.py:624: RuntimeWarning: overflow encountered in _beta_ppf\n",
      "  return _boost._beta_ppf(q, a, b)\n",
      "/Users/adamcuculich/georgia-tech/bayesian-stats/env/lib/python3.9/site-packages/scipy/stats/_continuous_distns.py:624: RuntimeWarning: overflow encountered in _beta_ppf\n",
      "  return _boost._beta_ppf(q, a, b)\n",
      "/Users/adamcuculich/georgia-tech/bayesian-stats/env/lib/python3.9/site-packages/scipy/stats/_continuous_distns.py:624: RuntimeWarning: overflow encountered in _beta_ppf\n",
      "  return _boost._beta_ppf(q, a, b)\n",
      "/Users/adamcuculich/georgia-tech/bayesian-stats/env/lib/python3.9/site-packages/scipy/stats/_continuous_distns.py:624: RuntimeWarning: overflow encountered in _beta_ppf\n",
      "  return _boost._beta_ppf(q, a, b)\n",
      "Sampling 4 chains for 1_000 tune and 3_000 draw iterations (4_000 + 12_000 draws total) took 31 seconds.\n"
     ]
    },
    {
     "data": {
      "text/html": [
       "\n",
       "<style>\n",
       "    /* Turns off some styling */\n",
       "    progress {\n",
       "        /* gets rid of default border in Firefox and Opera. */\n",
       "        border: none;\n",
       "        /* Needs to be in here for Safari polyfill so background images work as expected. */\n",
       "        background-size: auto;\n",
       "    }\n",
       "    progress:not([value]), progress:not([value])::-webkit-progress-bar {\n",
       "        background: repeating-linear-gradient(45deg, #7e7e7e, #7e7e7e 10px, #5c5c5c 10px, #5c5c5c 20px);\n",
       "    }\n",
       "    .progress-bar-interrupted, .progress-bar-interrupted::-webkit-progress-bar {\n",
       "        background: #F44336;\n",
       "    }\n",
       "</style>\n"
      ],
      "text/plain": [
       "<IPython.core.display.HTML object>"
      ]
     },
     "metadata": {},
     "output_type": "display_data"
    },
    {
     "data": {
      "text/html": [
       "\n",
       "    <div>\n",
       "      <progress value='12000' class='' max='12000' style='width:300px; height:20px; vertical-align: middle;'></progress>\n",
       "      100.00% [12000/12000 00:06&lt;00:00]\n",
       "    </div>\n",
       "    "
      ],
      "text/plain": [
       "<IPython.core.display.HTML object>"
      ]
     },
     "metadata": {},
     "output_type": "display_data"
    }
   ],
   "source": [
    "with pm.Model() as model:\n",
    "    # Priors for unknown model parameters\n",
    "    alpha = pm.Normal('alpha', mu=0, sigma=100)\n",
    "    beta1 = pm.Normal('beta1', mu=0, sigma=100)\n",
    "    beta2 = pm.Normal('beta2', mu=0, sigma=100)\n",
    "    tau = pm.Gamma(\"tau\", alpha=0.001, beta=0.001)\n",
    "\n",
    "    # Impute missing 'x' data\n",
    "    time_imputed = pm.Normal('time_imputed', mu=np.nanmean(time_after_injection), sigma=np.nanstd(time_after_injection), observed=time_after_injection)\n",
    "\n",
    "    # Quadratic regression equation\n",
    "    mu = alpha + beta1 * time_imputed + beta2 * time_imputed**2\n",
    "\n",
    "    # Likelihood (sampling distribution) of observations with missing 'y' data handled automatically\n",
    "    likelihood = pm.Normal('likelihood', mu=mu, tau=tau, observed=temperature)\n",
    "\n",
    "    # Inference\n",
    "    trace = pm.sample(3000, target_accept=0.95)\n",
    "    ppc = pm.sample_posterior_predictive(trace)\n",
    "    inference_data = az.from_pymc3(trace=trace, posterior_predictive=ppc)"
   ]
  },
  {
   "cell_type": "markdown",
   "metadata": {},
   "source": [
    "# Show Statistics"
   ]
  },
  {
   "cell_type": "code",
   "execution_count": 5,
   "metadata": {},
   "outputs": [
    {
     "name": "stderr",
     "output_type": "stream",
     "text": [
      "Got error No model on context stack. trying to find log_likelihood in translation.\n",
      "/Users/adamcuculich/georgia-tech/bayesian-stats/env/lib/python3.9/site-packages/arviz/data/io_pymc3_3x.py:98: FutureWarning: Using `from_pymc3` without the model will be deprecated in a future release. Not using the model will return less accurate and less useful results. Make sure you use the model argument or call from_pymc3 within a model context.\n",
      "  warnings.warn(\n"
     ]
    },
    {
     "data": {
      "text/html": [
       "<div>\n",
       "<style scoped>\n",
       "    .dataframe tbody tr th:only-of-type {\n",
       "        vertical-align: middle;\n",
       "    }\n",
       "\n",
       "    .dataframe tbody tr th {\n",
       "        vertical-align: top;\n",
       "    }\n",
       "\n",
       "    .dataframe thead th {\n",
       "        text-align: right;\n",
       "    }\n",
       "</style>\n",
       "<table border=\"1\" class=\"dataframe\">\n",
       "  <thead>\n",
       "    <tr style=\"text-align: right;\">\n",
       "      <th></th>\n",
       "      <th>mean</th>\n",
       "      <th>sd</th>\n",
       "      <th>hdi_3%</th>\n",
       "      <th>hdi_97%</th>\n",
       "      <th>mcse_mean</th>\n",
       "      <th>mcse_sd</th>\n",
       "      <th>ess_bulk</th>\n",
       "      <th>ess_tail</th>\n",
       "      <th>r_hat</th>\n",
       "    </tr>\n",
       "  </thead>\n",
       "  <tbody>\n",
       "    <tr>\n",
       "      <th>alpha</th>\n",
       "      <td>97.290</td>\n",
       "      <td>3.090</td>\n",
       "      <td>91.582</td>\n",
       "      <td>103.358</td>\n",
       "      <td>0.054</td>\n",
       "      <td>0.039</td>\n",
       "      <td>3417.0</td>\n",
       "      <td>3699.0</td>\n",
       "      <td>1.0</td>\n",
       "    </tr>\n",
       "    <tr>\n",
       "      <th>beta1</th>\n",
       "      <td>0.323</td>\n",
       "      <td>0.112</td>\n",
       "      <td>0.104</td>\n",
       "      <td>0.529</td>\n",
       "      <td>0.002</td>\n",
       "      <td>0.001</td>\n",
       "      <td>3266.0</td>\n",
       "      <td>3476.0</td>\n",
       "      <td>1.0</td>\n",
       "    </tr>\n",
       "    <tr>\n",
       "      <th>beta2</th>\n",
       "      <td>-0.003</td>\n",
       "      <td>0.001</td>\n",
       "      <td>-0.005</td>\n",
       "      <td>-0.001</td>\n",
       "      <td>0.000</td>\n",
       "      <td>0.000</td>\n",
       "      <td>3344.0</td>\n",
       "      <td>3564.0</td>\n",
       "      <td>1.0</td>\n",
       "    </tr>\n",
       "    <tr>\n",
       "      <th>time_imputed_missing[0]</th>\n",
       "      <td>56.264</td>\n",
       "      <td>11.372</td>\n",
       "      <td>35.317</td>\n",
       "      <td>77.258</td>\n",
       "      <td>0.143</td>\n",
       "      <td>0.105</td>\n",
       "      <td>6593.0</td>\n",
       "      <td>5728.0</td>\n",
       "      <td>1.0</td>\n",
       "    </tr>\n",
       "    <tr>\n",
       "      <th>likelihood_missing[0]</th>\n",
       "      <td>104.975</td>\n",
       "      <td>1.500</td>\n",
       "      <td>102.015</td>\n",
       "      <td>107.630</td>\n",
       "      <td>0.021</td>\n",
       "      <td>0.015</td>\n",
       "      <td>5734.0</td>\n",
       "      <td>4970.0</td>\n",
       "      <td>1.0</td>\n",
       "    </tr>\n",
       "    <tr>\n",
       "      <th>tau</th>\n",
       "      <td>0.826</td>\n",
       "      <td>0.496</td>\n",
       "      <td>0.095</td>\n",
       "      <td>1.730</td>\n",
       "      <td>0.008</td>\n",
       "      <td>0.006</td>\n",
       "      <td>3252.0</td>\n",
       "      <td>4703.0</td>\n",
       "      <td>1.0</td>\n",
       "    </tr>\n",
       "  </tbody>\n",
       "</table>\n",
       "</div>"
      ],
      "text/plain": [
       "                            mean      sd   hdi_3%  hdi_97%  mcse_mean  \\\n",
       "alpha                     97.290   3.090   91.582  103.358      0.054   \n",
       "beta1                      0.323   0.112    0.104    0.529      0.002   \n",
       "beta2                     -0.003   0.001   -0.005   -0.001      0.000   \n",
       "time_imputed_missing[0]   56.264  11.372   35.317   77.258      0.143   \n",
       "likelihood_missing[0]    104.975   1.500  102.015  107.630      0.021   \n",
       "tau                        0.826   0.496    0.095    1.730      0.008   \n",
       "\n",
       "                         mcse_sd  ess_bulk  ess_tail  r_hat  \n",
       "alpha                      0.039    3417.0    3699.0    1.0  \n",
       "beta1                      0.001    3266.0    3476.0    1.0  \n",
       "beta2                      0.000    3344.0    3564.0    1.0  \n",
       "time_imputed_missing[0]    0.105    6593.0    5728.0    1.0  \n",
       "likelihood_missing[0]      0.015    5734.0    4970.0    1.0  \n",
       "tau                        0.006    3252.0    4703.0    1.0  "
      ]
     },
     "execution_count": 5,
     "metadata": {},
     "output_type": "execute_result"
    }
   ],
   "source": [
    "az.summary(trace)"
   ]
  },
  {
   "cell_type": "markdown",
   "metadata": {},
   "source": [
    "# Calculate R²"
   ]
  },
  {
   "cell_type": "code",
   "execution_count": 6,
   "metadata": {},
   "outputs": [
    {
     "name": "stdout",
     "output_type": "stream",
     "text": [
      "Bayesian R-squared:\n",
      "r2        0.365722\n",
      "r2_std    0.119161\n",
      "dtype: float64\n"
     ]
    }
   ],
   "source": [
    "# Get temperatures where data is available.\n",
    "observed_temps = temperature[~np.isnan(temperature)]\n",
    "\n",
    "# Convert trace and ppc to ArviZ InferenceData and stack samples.\n",
    "y_pred = inference_data.posterior_predictive.stack(sample=(\"chain\", \"draw\"))[\"likelihood\"].values.T\n",
    "\n",
    "# Reshape y_pred and filter to match non-missing observed data.\n",
    "y_pred_reshaped = y_pred.reshape(-1, temperature.shape[0])\n",
    "non_missing_indices = np.where(~np.isnan(temperature))[0]\n",
    "y_pred_filtered = y_pred_reshaped[:, non_missing_indices]\n",
    "\n",
    "# Calculate and print Bayesian R-squared.\n",
    "r2_score = az.r2_score(observed_temps, y_pred_filtered)\n",
    "print(f'Bayesian R-squared:\\n{r2_score}')\n"
   ]
  },
  {
   "cell_type": "markdown",
   "metadata": {},
   "source": [
    "# Conslusion and Answers\n",
    "\n",
    "### 1. Bayesian R²\n",
    "    The utilized quadratic regression has a slightly higher Bayesian R²: 0.3657\n",
    "\n",
    "### 2. Missing Data Estimators\n",
    "    Missing time estimator (mean): 56.264 hours\n",
    "    Missing temperature estimator (mean): 104.975 degrees F\n",
    "\n",
    "### 3. Slope Credible Set Implications\n",
    "    The 90% credible set is [0.105, 0.529] for beta1 and [-0.005, -0.001] for beta2. Given that neither of these contain zero is an indication that both the linear and quadratic terms in the model have some prediction significance. Further, in conjunction with a slightly higher R² value, this increase in predictive significance is indicative of a better model fit, as compared to a completely linear regression."
   ]
  }
 ],
 "metadata": {
  "kernelspec": {
   "display_name": "env",
   "language": "python",
   "name": "python3"
  },
  "language_info": {
   "codemirror_mode": {
    "name": "ipython",
    "version": 3
   },
   "file_extension": ".py",
   "mimetype": "text/x-python",
   "name": "python",
   "nbconvert_exporter": "python",
   "pygments_lexer": "ipython3",
   "version": "3.9.5"
  }
 },
 "nbformat": 4,
 "nbformat_minor": 2
}
