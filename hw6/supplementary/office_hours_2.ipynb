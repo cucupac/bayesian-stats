{
 "cells": [
  {
   "cell_type": "code",
   "execution_count": null,
   "metadata": {},
   "outputs": [],
   "source": [
    "from pymc.math import exp\n",
    "import numpy as np\n",
    "\n",
    "data = np.loadtxt(\"gastric.txt\")\n",
    "x = data[:, 0].copy()\n",
    "censored_vals = data[:, 1].copy()\n",
    "y = data[:, 2].copy()\n",
    "\n",
    "# we need to separate the observed values and the censored values\n",
    "observed_mask = censored_vals == 0\n",
    "\n",
    "censored = censored_vals[~observed_mask]\n",
    "y_uncensored = y[observed_mask]\n",
    "x_censored = x[~observed_mask]\n",
    "x_uncensored = x[observed_mask]"
   ]
  },
  {
   "cell_type": "code",
   "execution_count": null,
   "metadata": {},
   "outputs": [],
   "source": [
    "with pm.Model() as ex2:\n",
    "    # Everything that happens in here is one iteration\n",
    "    beta0 = pm.Normal(\"beta0\", tau=0.001)\n",
    "    beta1 = pm.Normal(\"beta1\", tau=0.001)\n",
    "    alpha = pm.Exponential(\"alpha\", 3)\n",
    "\n",
    "    lambda_censored = exp(beta0 + beta1 * x_censored)\n",
    "    beta_censored = lambda_censored ** (-1 / alpha)\n",
    "\n",
    "    lambda_uncensored = exp(beta0 + beta1 * x_uncensored)\n",
    "    beta_uncensored = lambda_uncensored ** (-1 / alpha)\n",
    "\n",
    "    impute_censored = pm.Bound(\n",
    "        \"impute_censored\",\n",
    "        pm.Weibull.dist(alpha=alpha, beta=beta_censored),\n",
    "        lower=censored,\n",
    "        shape=censored.shape[0],\n",
    "    )\n",
    "\n",
    "    likelihood = pm.Weibull(\n",
    "        \"likelihood\",\n",
    "        alpha=alpha,\n",
    "        beta=beta_uncensored,\n",
    "        observed=y_uncensored,\n",
    "        shape=y_uncensored.shape[0],\n",
    "    )\n",
    "\n",
    "    trace_2 = pm.sample(10000, tune=2000, cores=4, init=\"auto\", target_accept=0.9)\n",
    "\n",
    "az.summary(trace_2)"
   ]
  }
 ],
 "metadata": {
  "language_info": {
   "name": "python"
  }
 },
 "nbformat": 4,
 "nbformat_minor": 2
}
