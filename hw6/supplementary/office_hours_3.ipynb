{
 "cells": [
  {
   "cell_type": "code",
   "execution_count": null,
   "metadata": {},
   "outputs": [],
   "source": [
    "# fmt: off\n",
    "x = np.array(\n",
    "    (15, 26, 10, 9, 15, 20, 18, 11, 8, 20, 7, 9, 10, 11, 11, 10, 12, 42, 17, 11, 10)\n",
    ")\n",
    "y = np.array(\n",
    "    (95, 71, 83, 91, 102, 87, 93, 100, 104, 94, 113, 96, 83, 84, 102, 100, 105, 57, 121, 86, 100)\n",
    ")\n",
    "# fmt: on"
   ]
  },
  {
   "cell_type": "code",
   "execution_count": null,
   "metadata": {},
   "outputs": [],
   "source": [
    "with pm.Model() as ex3:\n",
    "    tau = pm.Gamma(\"tau\", 1, 0.003)\n",
    "    s2 = pm.Deterministic(\"s2\", 1 / tau)\n",
    "    b = pm.Normal(\"b\", 0, tau=0.00001, shape=2)\n",
    "    \n",
    "    m = b[0] + b[1] * x\n",
    "    \n",
    "    pm.Normal(\"likelihood\", mu=m, tau=tau, observed=y)\n",
    "    \n",
    "    trace_3 = pm.sample(\n",
    "        10000, target_accept=0.99, idata_kwargs=dict(log_likelihood=True)\n",
    "    )\n",
    "    \n",
    "    pm.sample_posterior_predictive(trace_3, extend_inferencedata=True)\n"
   ]
  }
 ],
 "metadata": {
  "language_info": {
   "name": "python"
  }
 },
 "nbformat": 4,
 "nbformat_minor": 2
}
