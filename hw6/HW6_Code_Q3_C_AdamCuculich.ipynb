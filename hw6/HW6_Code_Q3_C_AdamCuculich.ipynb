{
 "cells": [
  {
   "cell_type": "code",
   "execution_count": 18,
   "metadata": {},
   "outputs": [],
   "source": [
    "import arviz as az\n",
    "import pandas as pd\n",
    "import pymc3 as pm\n",
    "import numpy as np\n",
    "import seaborn as sns\n",
    "import matplotlib.pyplot as plt"
   ]
  },
  {
   "cell_type": "markdown",
   "metadata": {},
   "source": [
    "# Data Extraction"
   ]
  },
  {
   "cell_type": "code",
   "execution_count": 19,
   "metadata": {},
   "outputs": [],
   "source": [
    "# Load the dataset\n",
    "data = pd.read_csv('concrete.csv', delimiter='\\t')\n",
    "\n",
    "# Predictors and output from the dataset\n",
    "X_full = data[['x1', 'x2', 'x3', 'x4', 'x5', 'x6', 'x7', 'x8']].values\n",
    "X_without_x6 = data[['x1', 'x2', 'x3', 'x4', 'x5', 'x7', 'x8']].values\n",
    "X_without_x7 = data[['x1', 'x2', 'x3', 'x4', 'x5', 'x6', 'x8']].values\n",
    "concrete_strengths = data['y'].values\n",
    "\n",
    "Y_observed = concrete_strengths.repeat(3).reshape(-1, 3)"
   ]
  },
  {
   "cell_type": "markdown",
   "metadata": {},
   "source": [
    "# Model"
   ]
  },
  {
   "cell_type": "code",
   "execution_count": 20,
   "metadata": {},
   "outputs": [
    {
     "name": "stderr",
     "output_type": "stream",
     "text": [
      "/Users/adamcuculich/georgia-tech/bayesian-stats/env/lib/python3.9/site-packages/deprecat/classic.py:215: FutureWarning: In v4.0, pm.sample will return an `arviz.InferenceData` object instead of a `MultiTrace` by default. You can pass return_inferencedata=True or return_inferencedata=False to be safe and silence this warning.\n",
      "  return wrapped_(*args_, **kwargs_)\n",
      "Auto-assigning NUTS sampler...\n",
      "Initializing NUTS using jitter+adapt_diag...\n",
      "Multiprocess sampling (4 chains in 4 jobs)\n",
      "NUTS: [tau, Intercept, beta_without_x7, beta_without_x6, beta_full]\n"
     ]
    },
    {
     "data": {
      "text/html": [
       "\n",
       "<style>\n",
       "    /* Turns off some styling */\n",
       "    progress {\n",
       "        /* gets rid of default border in Firefox and Opera. */\n",
       "        border: none;\n",
       "        /* Needs to be in here for Safari polyfill so background images work as expected. */\n",
       "        background-size: auto;\n",
       "    }\n",
       "    progress:not([value]), progress:not([value])::-webkit-progress-bar {\n",
       "        background: repeating-linear-gradient(45deg, #7e7e7e, #7e7e7e 10px, #5c5c5c 10px, #5c5c5c 20px);\n",
       "    }\n",
       "    .progress-bar-interrupted, .progress-bar-interrupted::-webkit-progress-bar {\n",
       "        background: #F44336;\n",
       "    }\n",
       "</style>\n"
      ],
      "text/plain": [
       "<IPython.core.display.HTML object>"
      ]
     },
     "metadata": {},
     "output_type": "display_data"
    },
    {
     "data": {
      "text/html": [
       "\n",
       "    <div>\n",
       "      <progress value='16000' class='' max='16000' style='width:300px; height:20px; vertical-align: middle;'></progress>\n",
       "      100.00% [16000/16000 00:55&lt;00:00 Sampling 4 chains, 0 divergences]\n",
       "    </div>\n",
       "    "
      ],
      "text/plain": [
       "<IPython.core.display.HTML object>"
      ]
     },
     "metadata": {},
     "output_type": "display_data"
    },
    {
     "name": "stderr",
     "output_type": "stream",
     "text": [
      "/Users/adamcuculich/georgia-tech/bayesian-stats/env/lib/python3.9/site-packages/scipy/stats/_continuous_distns.py:624: RuntimeWarning: overflow encountered in _beta_ppf\n",
      "  return _boost._beta_ppf(q, a, b)\n",
      "/Users/adamcuculich/georgia-tech/bayesian-stats/env/lib/python3.9/site-packages/scipy/stats/_continuous_distns.py:624: RuntimeWarning: overflow encountered in _beta_ppf\n",
      "  return _boost._beta_ppf(q, a, b)\n",
      "/Users/adamcuculich/georgia-tech/bayesian-stats/env/lib/python3.9/site-packages/scipy/stats/_continuous_distns.py:624: RuntimeWarning: overflow encountered in _beta_ppf\n",
      "  return _boost._beta_ppf(q, a, b)\n",
      "/Users/adamcuculich/georgia-tech/bayesian-stats/env/lib/python3.9/site-packages/scipy/stats/_continuous_distns.py:624: RuntimeWarning: overflow encountered in _beta_ppf\n",
      "  return _boost._beta_ppf(q, a, b)\n",
      "Sampling 4 chains for 1_000 tune and 3_000 draw iterations (4_000 + 12_000 draws total) took 61 seconds.\n"
     ]
    },
    {
     "data": {
      "text/html": [
       "\n",
       "<style>\n",
       "    /* Turns off some styling */\n",
       "    progress {\n",
       "        /* gets rid of default border in Firefox and Opera. */\n",
       "        border: none;\n",
       "        /* Needs to be in here for Safari polyfill so background images work as expected. */\n",
       "        background-size: auto;\n",
       "    }\n",
       "    progress:not([value]), progress:not([value])::-webkit-progress-bar {\n",
       "        background: repeating-linear-gradient(45deg, #7e7e7e, #7e7e7e 10px, #5c5c5c 10px, #5c5c5c 20px);\n",
       "    }\n",
       "    .progress-bar-interrupted, .progress-bar-interrupted::-webkit-progress-bar {\n",
       "        background: #F44336;\n",
       "    }\n",
       "</style>\n"
      ],
      "text/plain": [
       "<IPython.core.display.HTML object>"
      ]
     },
     "metadata": {},
     "output_type": "display_data"
    },
    {
     "data": {
      "text/html": [
       "\n",
       "    <div>\n",
       "      <progress value='12000' class='' max='12000' style='width:300px; height:20px; vertical-align: middle;'></progress>\n",
       "      100.00% [12000/12000 00:05&lt;00:00]\n",
       "    </div>\n",
       "    "
      ],
      "text/plain": [
       "<IPython.core.display.HTML object>"
      ]
     },
     "metadata": {},
     "output_type": "display_data"
    }
   ],
   "source": [
    "with pm.Model() as model:\n",
    "    # Data\n",
    "    X_shared_full = pm.Data('X_full', X_full)\n",
    "    X_shared_without_x6 = pm.Data('X_without_x6', X_without_x6)\n",
    "    X_shared_without_x7 = pm.Data('X_without_x7', X_without_x7)\n",
    "    \n",
    "\n",
    "    # Priors\n",
    "    beta_full = pm.Normal(\"beta_full\", mu=0, sigma=10, shape=8)\n",
    "    beta_without_x6 = pm.Normal(\"beta_without_x6\", mu=0, sigma=10, shape=7)\n",
    "    beta_without_x7 = pm.Normal(\"beta_without_x7\", mu=0, sigma=10, shape=7)\n",
    "    intercept = pm.Normal('Intercept', mu=0, sigma=10)\n",
    "    tau = pm.Gamma(\"tau\", alpha=0.001, beta=0.001, shape=3)\n",
    "\n",
    "    # Linear models\n",
    "    mu_full = intercept + pm.math.dot(X_shared_full, beta_full)\n",
    "    mu_without_x6 = intercept + pm.math.dot(X_shared_without_x6, beta_without_x6)\n",
    "    mu_without_x7 = intercept + pm.math.dot(X_shared_without_x7, beta_without_x7)\n",
    "\n",
    "    # Stack mus for the three models\n",
    "    mu = pm.math.stack([mu_full, mu_without_x6, mu_without_x7], axis=1)\n",
    "\n",
    "    # Likelihoods for the three models\n",
    "    likelihood = pm.Normal('likelihood', mu=mu, tau=tau, observed=Y_observed)\n",
    "\n",
    "    # Posterior sampling\n",
    "    trace = pm.sample(3000, target_accept=0.95)\n",
    "\n",
    "    # Posterior predictive checks\n",
    "    ppc = pm.sample_posterior_predictive(trace)\n",
    "    inference_data = az.from_pymc3(trace=trace, posterior_predictive=ppc)"
   ]
  },
  {
   "cell_type": "code",
   "execution_count": 24,
   "metadata": {},
   "outputs": [
    {
     "name": "stdout",
     "output_type": "stream",
     "text": [
      "L:  [413.75312452 414.00727911 413.94675522]\n"
     ]
    }
   ],
   "source": [
    "Y_new = az.summary(inference_data.posterior_predictive)[\"mean\"].values.reshape(-1, 3)\n",
    "D2 = (Y_observed - Y_new) ** 2\n",
    "L = np.sqrt(np.sum(D2, axis=0) + np.std(Y_new, axis=0) ** 2)\n",
    "print(\"L: \", L)"
   ]
  },
  {
   "cell_type": "markdown",
   "metadata": {},
   "source": [
    "# Consclusion\n",
    "\n",
    "Based on the obtained L values, the full model is preferred as it has the lowest L value, implying that it has a better fit."
   ]
  }
 ],
 "metadata": {
  "kernelspec": {
   "display_name": "env",
   "language": "python",
   "name": "python3"
  },
  "language_info": {
   "codemirror_mode": {
    "name": "ipython",
    "version": 3
   },
   "file_extension": ".py",
   "mimetype": "text/x-python",
   "name": "python",
   "nbconvert_exporter": "python",
   "pygments_lexer": "ipython3",
   "version": "3.9.5"
  }
 },
 "nbformat": 4,
 "nbformat_minor": 2
}
