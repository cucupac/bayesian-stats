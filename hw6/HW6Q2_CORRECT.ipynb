{
 "cells": [
  {
   "cell_type": "markdown",
   "id": "94dede29-b09a-4d24-bc4d-53f5ffcafa0b",
   "metadata": {},
   "source": [
    "# HW6Q2"
   ]
  },
  {
   "cell_type": "code",
   "execution_count": 5,
   "id": "a78f7057-f70f-4236-ae13-f8dc8e61ab36",
   "metadata": {},
   "outputs": [],
   "source": [
    "import pymc as pm\n",
    "import pandas as pd\n",
    "import arviz as az\n",
    "import numpy as np\n",
    "from pymc.math import switch, gt, exp"
   ]
  },
  {
   "cell_type": "code",
   "execution_count": 6,
   "id": "eaee2cbf-15ba-424b-956d-1a3178be7162",
   "metadata": {},
   "outputs": [
    {
     "data": {
      "text/plain": [
       "(    time  observed  group\n",
       " 12     3         1      0\n",
       " 65     6         1      1\n",
       " 49     1         0      1\n",
       " 75    44         0      1\n",
       " 15     3         1      0,\n",
       "             time   observed      group\n",
       " count  86.000000  86.000000  86.000000\n",
       " mean   18.081395   0.546512   0.441860\n",
       " std    16.442567   0.500752   0.499521\n",
       " min     0.000000   0.000000   0.000000\n",
       " 25%     3.000000   0.000000   0.000000\n",
       " 50%    12.500000   1.000000   0.000000\n",
       " 75%    29.000000   1.000000   1.000000\n",
       " max    59.000000   1.000000   1.000000)"
      ]
     },
     "execution_count": 6,
     "metadata": {},
     "output_type": "execute_result"
    }
   ],
   "source": [
    "bladderc = pd.read_csv(\"bladderc.csv\")\n",
    "bladderc.sample(5), bladderc.describe()"
   ]
  },
  {
   "cell_type": "code",
   "execution_count": 7,
   "id": "f624e395-b2d2-4320-8ffd-25ce09763c5e",
   "metadata": {},
   "outputs": [
    {
     "data": {
      "text/html": [
       "<div>\n",
       "<style scoped>\n",
       "    .dataframe tbody tr th:only-of-type {\n",
       "        vertical-align: middle;\n",
       "    }\n",
       "\n",
       "    .dataframe tbody tr th {\n",
       "        vertical-align: top;\n",
       "    }\n",
       "\n",
       "    .dataframe thead th {\n",
       "        text-align: right;\n",
       "    }\n",
       "</style>\n",
       "<table border=\"1\" class=\"dataframe\">\n",
       "  <thead>\n",
       "    <tr style=\"text-align: right;\">\n",
       "      <th></th>\n",
       "      <th>time</th>\n",
       "      <th>observed</th>\n",
       "      <th>group</th>\n",
       "    </tr>\n",
       "  </thead>\n",
       "  <tbody>\n",
       "    <tr>\n",
       "      <th>51</th>\n",
       "      <td>9</td>\n",
       "      <td>0</td>\n",
       "      <td>1</td>\n",
       "    </tr>\n",
       "    <tr>\n",
       "      <th>61</th>\n",
       "      <td>25</td>\n",
       "      <td>0</td>\n",
       "      <td>1</td>\n",
       "    </tr>\n",
       "    <tr>\n",
       "      <th>29</th>\n",
       "      <td>36</td>\n",
       "      <td>0</td>\n",
       "      <td>0</td>\n",
       "    </tr>\n",
       "    <tr>\n",
       "      <th>56</th>\n",
       "      <td>18</td>\n",
       "      <td>0</td>\n",
       "      <td>1</td>\n",
       "    </tr>\n",
       "    <tr>\n",
       "      <th>85</th>\n",
       "      <td>59</td>\n",
       "      <td>0</td>\n",
       "      <td>1</td>\n",
       "    </tr>\n",
       "  </tbody>\n",
       "</table>\n",
       "</div>"
      ],
      "text/plain": [
       "    time  observed  group\n",
       "51     9         0      1\n",
       "61    25         0      1\n",
       "29    36         0      0\n",
       "56    18         0      1\n",
       "85    59         0      1"
      ]
     },
     "execution_count": 7,
     "metadata": {},
     "output_type": "execute_result"
    }
   ],
   "source": [
    "censored = bladderc.query(\"observed == 0\")\n",
    "censored.sample(5)"
   ]
  },
  {
   "cell_type": "code",
   "execution_count": 8,
   "id": "69f46e19-391b-4e2b-a2e7-29bfb15970a8",
   "metadata": {},
   "outputs": [
    {
     "data": {
      "text/html": [
       "<div>\n",
       "<style scoped>\n",
       "    .dataframe tbody tr th:only-of-type {\n",
       "        vertical-align: middle;\n",
       "    }\n",
       "\n",
       "    .dataframe tbody tr th {\n",
       "        vertical-align: top;\n",
       "    }\n",
       "\n",
       "    .dataframe thead th {\n",
       "        text-align: right;\n",
       "    }\n",
       "</style>\n",
       "<table border=\"1\" class=\"dataframe\">\n",
       "  <thead>\n",
       "    <tr style=\"text-align: right;\">\n",
       "      <th></th>\n",
       "      <th>time</th>\n",
       "      <th>observed</th>\n",
       "      <th>group</th>\n",
       "    </tr>\n",
       "  </thead>\n",
       "  <tbody>\n",
       "    <tr>\n",
       "      <th>67</th>\n",
       "      <td>26</td>\n",
       "      <td>1</td>\n",
       "      <td>1</td>\n",
       "    </tr>\n",
       "    <tr>\n",
       "      <th>45</th>\n",
       "      <td>2</td>\n",
       "      <td>1</td>\n",
       "      <td>0</td>\n",
       "    </tr>\n",
       "    <tr>\n",
       "      <th>35</th>\n",
       "      <td>3</td>\n",
       "      <td>1</td>\n",
       "      <td>0</td>\n",
       "    </tr>\n",
       "    <tr>\n",
       "      <th>11</th>\n",
       "      <td>10</td>\n",
       "      <td>1</td>\n",
       "      <td>0</td>\n",
       "    </tr>\n",
       "    <tr>\n",
       "      <th>37</th>\n",
       "      <td>3</td>\n",
       "      <td>1</td>\n",
       "      <td>0</td>\n",
       "    </tr>\n",
       "  </tbody>\n",
       "</table>\n",
       "</div>"
      ],
      "text/plain": [
       "    time  observed  group\n",
       "67    26         1      1\n",
       "45     2         1      0\n",
       "35     3         1      0\n",
       "11    10         1      0\n",
       "37     3         1      0"
      ]
     },
     "execution_count": 8,
     "metadata": {},
     "output_type": "execute_result"
    }
   ],
   "source": [
    "uncensored = bladderc.query(\"observed == 1\")\n",
    "uncensored.sample(5)"
   ]
  },
  {
   "cell_type": "code",
   "execution_count": 9,
   "id": "581844f5-1445-4251-91cb-849c2603cba1",
   "metadata": {},
   "outputs": [],
   "source": [
    "time_uncensored = uncensored[\"time\"].to_numpy()\n",
    "group_uncensored = uncensored[\"group\"].to_numpy()\n",
    "time_censored = censored[\"time\"].to_numpy()\n",
    "group_censored = censored[\"group\"].to_numpy()"
   ]
  },
  {
   "cell_type": "code",
   "execution_count": 12,
   "id": "baa2e575-194b-41e0-9c39-ccad7daa9cc0",
   "metadata": {},
   "outputs": [
    {
     "name": "stderr",
     "output_type": "stream",
     "text": [
      "/Users/aaron/mambaforge/envs/pymc/lib/python3.11/site-packages/pymc/distributions/bound.py:185: FutureWarning: Bound has been deprecated in favor of Truncated, and will be removed in a future release. If Truncated is not an option, Bound can be implemented byadding an IntervalTransform between lower and upper to a continuous variable. A Potential that returns negative infinity for values outside of the bounds can be used for discrete variables.\n",
      "  warnings.warn(\n",
      "Auto-assigning NUTS sampler...\n",
      "Initializing NUTS using jitter+adapt_diag...\n",
      "Multiprocess sampling (4 chains in 4 jobs)\n",
      "NUTS: [beta0, beta1, impute_censored]\n"
     ]
    },
    {
     "data": {
      "text/html": [
       "\n",
       "<style>\n",
       "    /* Turns off some styling */\n",
       "    progress {\n",
       "        /* gets rid of default border in Firefox and Opera. */\n",
       "        border: none;\n",
       "        /* Needs to be in here for Safari polyfill so background images work as expected. */\n",
       "        background-size: auto;\n",
       "    }\n",
       "    progress:not([value]), progress:not([value])::-webkit-progress-bar {\n",
       "        background: repeating-linear-gradient(45deg, #7e7e7e, #7e7e7e 10px, #5c5c5c 10px, #5c5c5c 20px);\n",
       "    }\n",
       "    .progress-bar-interrupted, .progress-bar-interrupted::-webkit-progress-bar {\n",
       "        background: #F44336;\n",
       "    }\n",
       "</style>\n"
      ],
      "text/plain": [
       "<IPython.core.display.HTML object>"
      ]
     },
     "metadata": {},
     "output_type": "display_data"
    },
    {
     "data": {
      "text/html": [
       "\n",
       "    <div>\n",
       "      <progress value='48000' class='' max='48000' style='width:300px; height:20px; vertical-align: middle;'></progress>\n",
       "      100.00% [48000/48000 00:08&lt;00:00 Sampling 4 chains, 0 divergences]\n",
       "    </div>\n",
       "    "
      ],
      "text/plain": [
       "<IPython.core.display.HTML object>"
      ]
     },
     "metadata": {},
     "output_type": "display_data"
    },
    {
     "name": "stderr",
     "output_type": "stream",
     "text": [
      "Sampling 4 chains for 2_000 tune and 10_000 draw iterations (8_000 + 40_000 draws total) took 9 seconds.\n"
     ]
    }
   ],
   "source": [
    "with pm.Model() as m:\n",
    "    beta0 = pm.Normal(\"beta0\", 0, tau=0.01)\n",
    "    beta1 = pm.Normal(\"beta1\", 0, tau=0.01)\n",
    "    \n",
    "    lam_censored = exp(beta0 + beta1 * group_censored)\n",
    "    lam_uncensored = exp(beta0 + beta1 * group_uncensored)\n",
    "\n",
    "    impute_censored = pm.Bound(\n",
    "        \"impute_censored\",\n",
    "        pm.Exponential.dist(lam_censored),\n",
    "        lower=time_censored,\n",
    "        shape=time_censored.shape[0],\n",
    "    )\n",
    "\n",
    "    pm.Exponential(\n",
    "        \"likelihood\",\n",
    "        lam_uncensored,\n",
    "        observed=time_uncensored,\n",
    "        shape=time_uncensored.shape[0],\n",
    "    )\n",
    "\n",
    "    mu_0 = pm.Deterministic(\"mu_0\", exp(-beta0))\n",
    "    mu_1 = pm.Deterministic(\"mu_1\", exp(-beta0 - beta1))\n",
    "\n",
    "    pm.Deterministic(\"mu_diff\", mu_1 - mu_0)\n",
    "    pm.Deterministic(\"H\", switch(gt(mu_1, mu_0), 1, 0))\n",
    "\n",
    "    \n",
    "    trace = pm.sample(10000, tune=2000, init=\"auto\", target_accept=0.9)"
   ]
  },
  {
   "cell_type": "code",
   "execution_count": 14,
   "id": "442ebab6-23e9-4d52-805c-a5f799cd0f72",
   "metadata": {},
   "outputs": [
    {
     "data": {
      "text/html": [
       "<div>\n",
       "<style scoped>\n",
       "    .dataframe tbody tr th:only-of-type {\n",
       "        vertical-align: middle;\n",
       "    }\n",
       "\n",
       "    .dataframe tbody tr th {\n",
       "        vertical-align: top;\n",
       "    }\n",
       "\n",
       "    .dataframe thead th {\n",
       "        text-align: right;\n",
       "    }\n",
       "</style>\n",
       "<table border=\"1\" class=\"dataframe\">\n",
       "  <thead>\n",
       "    <tr style=\"text-align: right;\">\n",
       "      <th></th>\n",
       "      <th>mean</th>\n",
       "      <th>sd</th>\n",
       "      <th>hdi_2.5%</th>\n",
       "      <th>hdi_97.5%</th>\n",
       "      <th>mcse_mean</th>\n",
       "      <th>mcse_sd</th>\n",
       "      <th>ess_bulk</th>\n",
       "      <th>ess_tail</th>\n",
       "      <th>r_hat</th>\n",
       "    </tr>\n",
       "  </thead>\n",
       "  <tbody>\n",
       "    <tr>\n",
       "      <th>beta0</th>\n",
       "      <td>-3.278</td>\n",
       "      <td>0.187</td>\n",
       "      <td>-3.649</td>\n",
       "      <td>-2.921</td>\n",
       "      <td>0.001</td>\n",
       "      <td>0.001</td>\n",
       "      <td>36968.0</td>\n",
       "      <td>30171.0</td>\n",
       "      <td>1.0</td>\n",
       "    </tr>\n",
       "    <tr>\n",
       "      <th>beta1</th>\n",
       "      <td>-0.542</td>\n",
       "      <td>0.305</td>\n",
       "      <td>-1.152</td>\n",
       "      <td>0.037</td>\n",
       "      <td>0.002</td>\n",
       "      <td>0.001</td>\n",
       "      <td>32866.0</td>\n",
       "      <td>32286.0</td>\n",
       "      <td>1.0</td>\n",
       "    </tr>\n",
       "    <tr>\n",
       "      <th>mu_0</th>\n",
       "      <td>27.005</td>\n",
       "      <td>5.168</td>\n",
       "      <td>17.769</td>\n",
       "      <td>37.281</td>\n",
       "      <td>0.028</td>\n",
       "      <td>0.020</td>\n",
       "      <td>36968.0</td>\n",
       "      <td>30171.0</td>\n",
       "      <td>1.0</td>\n",
       "    </tr>\n",
       "    <tr>\n",
       "      <th>mu_1</th>\n",
       "      <td>46.986</td>\n",
       "      <td>11.772</td>\n",
       "      <td>26.574</td>\n",
       "      <td>70.049</td>\n",
       "      <td>0.061</td>\n",
       "      <td>0.044</td>\n",
       "      <td>39098.0</td>\n",
       "      <td>34080.0</td>\n",
       "      <td>1.0</td>\n",
       "    </tr>\n",
       "    <tr>\n",
       "      <th>mu_diff</th>\n",
       "      <td>19.981</td>\n",
       "      <td>12.888</td>\n",
       "      <td>-3.651</td>\n",
       "      <td>46.017</td>\n",
       "      <td>0.071</td>\n",
       "      <td>0.051</td>\n",
       "      <td>33385.0</td>\n",
       "      <td>33097.0</td>\n",
       "      <td>1.0</td>\n",
       "    </tr>\n",
       "    <tr>\n",
       "      <th>H</th>\n",
       "      <td>0.964</td>\n",
       "      <td>0.185</td>\n",
       "      <td>1.000</td>\n",
       "      <td>1.000</td>\n",
       "      <td>0.001</td>\n",
       "      <td>0.001</td>\n",
       "      <td>33073.0</td>\n",
       "      <td>40000.0</td>\n",
       "      <td>1.0</td>\n",
       "    </tr>\n",
       "  </tbody>\n",
       "</table>\n",
       "</div>"
      ],
      "text/plain": [
       "           mean      sd  hdi_2.5%  hdi_97.5%  mcse_mean  mcse_sd  ess_bulk  \\\n",
       "beta0    -3.278   0.187    -3.649     -2.921      0.001    0.001   36968.0   \n",
       "beta1    -0.542   0.305    -1.152      0.037      0.002    0.001   32866.0   \n",
       "mu_0     27.005   5.168    17.769     37.281      0.028    0.020   36968.0   \n",
       "mu_1     46.986  11.772    26.574     70.049      0.061    0.044   39098.0   \n",
       "mu_diff  19.981  12.888    -3.651     46.017      0.071    0.051   33385.0   \n",
       "H         0.964   0.185     1.000      1.000      0.001    0.001   33073.0   \n",
       "\n",
       "         ess_tail  r_hat  \n",
       "beta0     30171.0    1.0  \n",
       "beta1     32286.0    1.0  \n",
       "mu_0      30171.0    1.0  \n",
       "mu_1      34080.0    1.0  \n",
       "mu_diff   33097.0    1.0  \n",
       "H         40000.0    1.0  "
      ]
     },
     "execution_count": 14,
     "metadata": {},
     "output_type": "execute_result"
    }
   ],
   "source": [
    "az.summary(trace, hdi_prob=.95, var_names=\"~impute_censored\")"
   ]
  },
  {
   "cell_type": "markdown",
   "id": "0807afbf-62b0-49b3-a2c9-bac1e91c2910",
   "metadata": {},
   "source": [
    "So the posterior probability of our hypothesis H: $\\mu_1 \\gt \\mu_0 = .965$, but the 95% credible set for $\\mu_1 - \\mu_0$ contains 0. Seems there is a lot of variance in the size of the differences, making it so they could plausibly be 0, so this study is inconclusive."
   ]
  },
  {
   "cell_type": "code",
   "execution_count": null,
   "id": "c85230ce-9ed0-454a-9059-a193ffe983be",
   "metadata": {},
   "outputs": [],
   "source": []
  }
 ],
 "metadata": {
  "kernelspec": {
   "display_name": "Python 3 (ipykernel)",
   "language": "python",
   "name": "python3"
  },
  "language_info": {
   "codemirror_mode": {
    "name": "ipython",
    "version": 3
   },
   "file_extension": ".py",
   "mimetype": "text/x-python",
   "name": "python",
   "nbconvert_exporter": "python",
   "pygments_lexer": "ipython3",
   "version": "3.11.5"
  }
 },
 "nbformat": 4,
 "nbformat_minor": 5
}
