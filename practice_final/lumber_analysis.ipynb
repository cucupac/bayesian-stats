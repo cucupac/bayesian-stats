{
 "cells": [
  {
   "cell_type": "code",
   "execution_count": 34,
   "metadata": {},
   "outputs": [],
   "source": [
    "import arviz as az\n",
    "import numpy as np\n",
    "import pymc3 as pm\n",
    "import pandas as pd\n",
    "\n",
    "from itertools import combinations"
   ]
  },
  {
   "cell_type": "code",
   "execution_count": 36,
   "metadata": {},
   "outputs": [],
   "source": [
    "# Load the dataset\n",
    "data = pd.read_csv('lumber.csv', delimiter=',')\n",
    "\n",
    "# Predictors and output from the dataset\n",
    "X = data[['hunits', 'aveinc', 'aveage', 'distcomp', 'diststore']].values\n",
    "customers = data['customers'].values\n",
    "\n",
    "# Manually standardize the predictors\n",
    "X_mean = X.mean(axis=0)\n",
    "X_std = X.std(axis=0)\n",
    "X_scaled = (X - X_mean) / X_std"
   ]
  },
  {
   "cell_type": "code",
   "execution_count": 31,
   "metadata": {},
   "outputs": [
    {
     "name": "stderr",
     "output_type": "stream",
     "text": [
      "Auto-assigning NUTS sampler...\n",
      "Initializing NUTS using jitter+adapt_diag...\n",
      "Multiprocess sampling (4 chains in 4 jobs)\n",
      "NUTS: [beta, intercept]\n"
     ]
    },
    {
     "data": {
      "text/html": [
       "\n",
       "<style>\n",
       "    /* Turns off some styling */\n",
       "    progress {\n",
       "        /* gets rid of default border in Firefox and Opera. */\n",
       "        border: none;\n",
       "        /* Needs to be in here for Safari polyfill so background images work as expected. */\n",
       "        background-size: auto;\n",
       "    }\n",
       "    progress:not([value]), progress:not([value])::-webkit-progress-bar {\n",
       "        background: repeating-linear-gradient(45deg, #7e7e7e, #7e7e7e 10px, #5c5c5c 10px, #5c5c5c 20px);\n",
       "    }\n",
       "    .progress-bar-interrupted, .progress-bar-interrupted::-webkit-progress-bar {\n",
       "        background: #F44336;\n",
       "    }\n",
       "</style>\n"
      ],
      "text/plain": [
       "<IPython.core.display.HTML object>"
      ]
     },
     "metadata": {},
     "output_type": "display_data"
    },
    {
     "data": {
      "text/html": [
       "\n",
       "    <div>\n",
       "      <progress value='16000' class='' max='16000' style='width:300px; height:20px; vertical-align: middle;'></progress>\n",
       "      100.00% [16000/16000 00:02&lt;00:00 Sampling 4 chains, 0 divergences]\n",
       "    </div>\n",
       "    "
      ],
      "text/plain": [
       "<IPython.core.display.HTML object>"
      ]
     },
     "metadata": {},
     "output_type": "display_data"
    },
    {
     "name": "stderr",
     "output_type": "stream",
     "text": [
      "/Users/adamcuculich/georgia-tech/bayesian-stats/env/lib/python3.9/site-packages/scipy/stats/_continuous_distns.py:624: RuntimeWarning: overflow encountered in _beta_ppf\n",
      "  return _boost._beta_ppf(q, a, b)\n",
      "/Users/adamcuculich/georgia-tech/bayesian-stats/env/lib/python3.9/site-packages/scipy/stats/_continuous_distns.py:624: RuntimeWarning: overflow encountered in _beta_ppf\n",
      "  return _boost._beta_ppf(q, a, b)\n",
      "/Users/adamcuculich/georgia-tech/bayesian-stats/env/lib/python3.9/site-packages/scipy/stats/_continuous_distns.py:624: RuntimeWarning: overflow encountered in _beta_ppf\n",
      "  return _boost._beta_ppf(q, a, b)\n",
      "/Users/adamcuculich/georgia-tech/bayesian-stats/env/lib/python3.9/site-packages/scipy/stats/_continuous_distns.py:624: RuntimeWarning: overflow encountered in _beta_ppf\n",
      "  return _boost._beta_ppf(q, a, b)\n",
      "Sampling 4 chains for 1_000 tune and 3_000 draw iterations (4_000 + 12_000 draws total) took 7 seconds.\n"
     ]
    }
   ],
   "source": [
    "with pm.Model() as m:\n",
    "    # Data\n",
    "    X_data = pm.Data('X_data', X_scaled)\n",
    "\n",
    "    # Priors\n",
    "    intercept = pm.Normal('intercept', mu=0, sigma=10)\n",
    "    beta = pm.Normal('beta', mu=0, sigma=10, shape=5)\n",
    "\n",
    "    # Expected value of the outcome (μ)\n",
    "    mu = pm.math.exp(intercept + pm.math.dot(X_data, beta))\n",
    "\n",
    "    # Poisson likelihood\n",
    "    y = pm.Poisson('y', mu=mu, observed=customers)\n",
    "\n",
    "    # Sampling from the posterior distribution\n",
    "    trace = pm.sample(3000, target_accept=0.95)"
   ]
  },
  {
   "cell_type": "code",
   "execution_count": 32,
   "metadata": {},
   "outputs": [
    {
     "name": "stderr",
     "output_type": "stream",
     "text": [
      "Got error No model on context stack. trying to find log_likelihood in translation.\n",
      "/Users/adamcuculich/georgia-tech/bayesian-stats/env/lib/python3.9/site-packages/arviz/data/io_pymc3_3x.py:98: FutureWarning: Using `from_pymc3` without the model will be deprecated in a future release. Not using the model will return less accurate and less useful results. Make sure you use the model argument or call from_pymc3 within a model context.\n",
      "  warnings.warn(\n"
     ]
    },
    {
     "data": {
      "text/html": [
       "<div>\n",
       "<style scoped>\n",
       "    .dataframe tbody tr th:only-of-type {\n",
       "        vertical-align: middle;\n",
       "    }\n",
       "\n",
       "    .dataframe tbody tr th {\n",
       "        vertical-align: top;\n",
       "    }\n",
       "\n",
       "    .dataframe thead th {\n",
       "        text-align: right;\n",
       "    }\n",
       "</style>\n",
       "<table border=\"1\" class=\"dataframe\">\n",
       "  <thead>\n",
       "    <tr style=\"text-align: right;\">\n",
       "      <th></th>\n",
       "      <th>mean</th>\n",
       "      <th>sd</th>\n",
       "      <th>hdi_3%</th>\n",
       "      <th>hdi_97%</th>\n",
       "      <th>mcse_mean</th>\n",
       "      <th>mcse_sd</th>\n",
       "      <th>ess_bulk</th>\n",
       "      <th>ess_tail</th>\n",
       "      <th>r_hat</th>\n",
       "    </tr>\n",
       "  </thead>\n",
       "  <tbody>\n",
       "    <tr>\n",
       "      <th>intercept</th>\n",
       "      <td>2.296</td>\n",
       "      <td>0.031</td>\n",
       "      <td>2.237</td>\n",
       "      <td>2.354</td>\n",
       "      <td>0.0</td>\n",
       "      <td>0.0</td>\n",
       "      <td>10488.0</td>\n",
       "      <td>8743.0</td>\n",
       "      <td>1.0</td>\n",
       "    </tr>\n",
       "    <tr>\n",
       "      <th>beta[0]</th>\n",
       "      <td>0.158</td>\n",
       "      <td>0.037</td>\n",
       "      <td>0.090</td>\n",
       "      <td>0.229</td>\n",
       "      <td>0.0</td>\n",
       "      <td>0.0</td>\n",
       "      <td>9076.0</td>\n",
       "      <td>8277.0</td>\n",
       "      <td>1.0</td>\n",
       "    </tr>\n",
       "    <tr>\n",
       "      <th>beta[1]</th>\n",
       "      <td>-0.216</td>\n",
       "      <td>0.039</td>\n",
       "      <td>-0.287</td>\n",
       "      <td>-0.143</td>\n",
       "      <td>0.0</td>\n",
       "      <td>0.0</td>\n",
       "      <td>9042.0</td>\n",
       "      <td>8763.0</td>\n",
       "      <td>1.0</td>\n",
       "    </tr>\n",
       "    <tr>\n",
       "      <th>beta[2]</th>\n",
       "      <td>-0.061</td>\n",
       "      <td>0.029</td>\n",
       "      <td>-0.117</td>\n",
       "      <td>-0.008</td>\n",
       "      <td>0.0</td>\n",
       "      <td>0.0</td>\n",
       "      <td>10048.0</td>\n",
       "      <td>9077.0</td>\n",
       "      <td>1.0</td>\n",
       "    </tr>\n",
       "    <tr>\n",
       "      <th>beta[3]</th>\n",
       "      <td>0.252</td>\n",
       "      <td>0.039</td>\n",
       "      <td>0.178</td>\n",
       "      <td>0.323</td>\n",
       "      <td>0.0</td>\n",
       "      <td>0.0</td>\n",
       "      <td>8699.0</td>\n",
       "      <td>8330.0</td>\n",
       "      <td>1.0</td>\n",
       "    </tr>\n",
       "    <tr>\n",
       "      <th>beta[4]</th>\n",
       "      <td>-0.294</td>\n",
       "      <td>0.037</td>\n",
       "      <td>-0.368</td>\n",
       "      <td>-0.228</td>\n",
       "      <td>0.0</td>\n",
       "      <td>0.0</td>\n",
       "      <td>9297.0</td>\n",
       "      <td>8288.0</td>\n",
       "      <td>1.0</td>\n",
       "    </tr>\n",
       "  </tbody>\n",
       "</table>\n",
       "</div>"
      ],
      "text/plain": [
       "            mean     sd  hdi_3%  hdi_97%  mcse_mean  mcse_sd  ess_bulk  \\\n",
       "intercept  2.296  0.031   2.237    2.354        0.0      0.0   10488.0   \n",
       "beta[0]    0.158  0.037   0.090    0.229        0.0      0.0    9076.0   \n",
       "beta[1]   -0.216  0.039  -0.287   -0.143        0.0      0.0    9042.0   \n",
       "beta[2]   -0.061  0.029  -0.117   -0.008        0.0      0.0   10048.0   \n",
       "beta[3]    0.252  0.039   0.178    0.323        0.0      0.0    8699.0   \n",
       "beta[4]   -0.294  0.037  -0.368   -0.228        0.0      0.0    9297.0   \n",
       "\n",
       "           ess_tail  r_hat  \n",
       "intercept    8743.0    1.0  \n",
       "beta[0]      8277.0    1.0  \n",
       "beta[1]      8763.0    1.0  \n",
       "beta[2]      9077.0    1.0  \n",
       "beta[3]      8330.0    1.0  \n",
       "beta[4]      8288.0    1.0  "
      ]
     },
     "execution_count": 32,
     "metadata": {},
     "output_type": "execute_result"
    }
   ],
   "source": [
    "az.summary(trace)"
   ]
  },
  {
   "cell_type": "code",
   "execution_count": 35,
   "metadata": {},
   "outputs": [
    {
     "data": {
      "text/plain": [
       "[('hunits', 'aveinc'),\n",
       " ('hunits', 'aveage'),\n",
       " ('hunits', 'distcomp'),\n",
       " ('hunits', 'diststore'),\n",
       " ('aveinc', 'aveage'),\n",
       " ('aveinc', 'distcomp'),\n",
       " ('aveinc', 'diststore'),\n",
       " ('aveage', 'distcomp'),\n",
       " ('aveage', 'diststore'),\n",
       " ('distcomp', 'diststore')]"
      ]
     },
     "execution_count": 35,
     "metadata": {},
     "output_type": "execute_result"
    }
   ],
   "source": [
    "\n",
    "predictor_names = ['hunits', 'aveinc', 'aveage', 'distcomp', 'diststore']  # column names\n",
    "model_combinations = list(combinations(predictor_names, 2))"
   ]
  },
  {
   "cell_type": "code",
   "execution_count": 39,
   "metadata": {},
   "outputs": [],
   "source": [
    "Y_RESHAPED = customers.repeat(10).reshape(110, 10)"
   ]
  },
  {
   "cell_type": "code",
   "execution_count": 41,
   "metadata": {},
   "outputs": [],
   "source": [
    "# Load the dataset\n",
    "data = pd.read_csv('lumber.csv', delimiter=',')\n",
    "\n",
    "# Predictors and output from the dataset\n",
    "X_1 = data[['hunits', 'aveinc']].values\n",
    "X_2 = data[['hunits', 'aveage']].values\n",
    "X_3 = data[['hunits', 'distcomp']].values\n",
    "X_4 = data[['hunits', 'diststore']].values\n",
    "X_5 = data[['aveinc', 'aveage']].values\n",
    "X_6 = data[['aveinc', 'distcomp']].values\n",
    "X_7 = data[['aveinc', 'diststore']].values\n",
    "X_8 = data[['aveage', 'distcomp']].values\n",
    "X_9 = data[['aveage', 'diststore']].values\n",
    "X_10 = data[['distcomp', 'diststore']].values\n",
    "\n",
    "X_list = [X_1, X_2, X_3, X_4, X_5, X_6, X_7, X_8, X_9, X_10]\n",
    "\n",
    "X_list_scaled = []\n",
    "for X_i in X_list:\n",
    "    X_i_mean = X_i.mean(axis=0)\n",
    "    X_i_std = X_i.std(axis=0)\n",
    "    X_i_scaled = (X_i - X_i_mean) / X_i_std\n",
    "    X_list_scaled.append(X_i_scaled)"
   ]
  },
  {
   "cell_type": "code",
   "execution_count": 43,
   "metadata": {},
   "outputs": [
    {
     "name": "stderr",
     "output_type": "stream",
     "text": [
      "/Users/adamcuculich/georgia-tech/bayesian-stats/env/lib/python3.9/site-packages/deprecat/classic.py:215: FutureWarning: In v4.0, pm.sample will return an `arviz.InferenceData` object instead of a `MultiTrace` by default. You can pass return_inferencedata=True or return_inferencedata=False to be safe and silence this warning.\n",
      "  return wrapped_(*args_, **kwargs_)\n",
      "Auto-assigning NUTS sampler...\n",
      "Initializing NUTS using jitter+adapt_diag...\n",
      "Multiprocess sampling (4 chains in 4 jobs)\n",
      "NUTS: [Intercept, beta]\n"
     ]
    },
    {
     "data": {
      "text/html": [
       "\n",
       "<style>\n",
       "    /* Turns off some styling */\n",
       "    progress {\n",
       "        /* gets rid of default border in Firefox and Opera. */\n",
       "        border: none;\n",
       "        /* Needs to be in here for Safari polyfill so background images work as expected. */\n",
       "        background-size: auto;\n",
       "    }\n",
       "    progress:not([value]), progress:not([value])::-webkit-progress-bar {\n",
       "        background: repeating-linear-gradient(45deg, #7e7e7e, #7e7e7e 10px, #5c5c5c 10px, #5c5c5c 20px);\n",
       "    }\n",
       "    .progress-bar-interrupted, .progress-bar-interrupted::-webkit-progress-bar {\n",
       "        background: #F44336;\n",
       "    }\n",
       "</style>\n"
      ],
      "text/plain": [
       "<IPython.core.display.HTML object>"
      ]
     },
     "metadata": {},
     "output_type": "display_data"
    },
    {
     "data": {
      "text/html": [
       "\n",
       "    <div>\n",
       "      <progress value='44000' class='' max='44000' style='width:300px; height:20px; vertical-align: middle;'></progress>\n",
       "      100.00% [44000/44000 00:04&lt;00:00 Sampling 4 chains, 0 divergences]\n",
       "    </div>\n",
       "    "
      ],
      "text/plain": [
       "<IPython.core.display.HTML object>"
      ]
     },
     "metadata": {},
     "output_type": "display_data"
    },
    {
     "name": "stderr",
     "output_type": "stream",
     "text": [
      "/Users/adamcuculich/georgia-tech/bayesian-stats/env/lib/python3.9/site-packages/scipy/stats/_continuous_distns.py:624: RuntimeWarning: overflow encountered in _beta_ppf\n",
      "  return _boost._beta_ppf(q, a, b)\n",
      "/Users/adamcuculich/georgia-tech/bayesian-stats/env/lib/python3.9/site-packages/scipy/stats/_continuous_distns.py:624: RuntimeWarning: overflow encountered in _beta_ppf\n",
      "  return _boost._beta_ppf(q, a, b)\n",
      "/Users/adamcuculich/georgia-tech/bayesian-stats/env/lib/python3.9/site-packages/scipy/stats/_continuous_distns.py:624: RuntimeWarning: overflow encountered in _beta_ppf\n",
      "  return _boost._beta_ppf(q, a, b)\n",
      "/Users/adamcuculich/georgia-tech/bayesian-stats/env/lib/python3.9/site-packages/scipy/stats/_continuous_distns.py:624: RuntimeWarning: overflow encountered in _beta_ppf\n",
      "  return _boost._beta_ppf(q, a, b)\n",
      "Sampling 4 chains for 1_000 tune and 10_000 draw iterations (4_000 + 40_000 draws total) took 9 seconds.\n"
     ]
    },
    {
     "data": {
      "text/html": [
       "\n",
       "<style>\n",
       "    /* Turns off some styling */\n",
       "    progress {\n",
       "        /* gets rid of default border in Firefox and Opera. */\n",
       "        border: none;\n",
       "        /* Needs to be in here for Safari polyfill so background images work as expected. */\n",
       "        background-size: auto;\n",
       "    }\n",
       "    progress:not([value]), progress:not([value])::-webkit-progress-bar {\n",
       "        background: repeating-linear-gradient(45deg, #7e7e7e, #7e7e7e 10px, #5c5c5c 10px, #5c5c5c 20px);\n",
       "    }\n",
       "    .progress-bar-interrupted, .progress-bar-interrupted::-webkit-progress-bar {\n",
       "        background: #F44336;\n",
       "    }\n",
       "</style>\n"
      ],
      "text/plain": [
       "<IPython.core.display.HTML object>"
      ]
     },
     "metadata": {},
     "output_type": "display_data"
    },
    {
     "data": {
      "text/html": [
       "\n",
       "    <div>\n",
       "      <progress value='40000' class='' max='40000' style='width:300px; height:20px; vertical-align: middle;'></progress>\n",
       "      100.00% [40000/40000 00:13&lt;00:00]\n",
       "    </div>\n",
       "    "
      ],
      "text/plain": [
       "<IPython.core.display.HTML object>"
      ]
     },
     "metadata": {},
     "output_type": "display_data"
    }
   ],
   "source": [
    "with pm.Model() as model_2:\n",
    "    # Data        \n",
    "    X_1_shared = pm.Data('X_1', X_list_scaled[0])\n",
    "    X_2_shared = pm.Data('X_2', X_list_scaled[1])\n",
    "    X_3_shared = pm.Data('X_3', X_list_scaled[2])\n",
    "    X_4_shared = pm.Data('X_4', X_list_scaled[3])\n",
    "    X_5_shared = pm.Data('X_5', X_list_scaled[4])\n",
    "    X_6_shared = pm.Data('X_6', X_list_scaled[5])\n",
    "    X_7_shared = pm.Data('X_7', X_list_scaled[6])\n",
    "    X_8_shared = pm.Data('X_8', X_list_scaled[7])\n",
    "    X_9_shared = pm.Data('X_9', X_list_scaled[8])\n",
    "    X_10_shared = pm.Data('X_10', X_list_scaled[9])\n",
    "\n",
    "    # Priors\n",
    "    beta = pm.Normal('beta', mu=0, sigma=10, shape=2)\n",
    "    intercept = pm.Normal('Intercept', mu=0, sigma=10)\n",
    "\n",
    "    # Linear models\n",
    "    mu_1 = pm.math.exp(intercept + pm.math.dot(X_1_shared, beta))\n",
    "    mu_2 = pm.math.exp(intercept + pm.math.dot(X_2_shared, beta))\n",
    "    mu_3 = pm.math.exp(intercept + pm.math.dot(X_3_shared, beta))\n",
    "    mu_4 = pm.math.exp(intercept + pm.math.dot(X_4_shared, beta))\n",
    "    mu_5 = pm.math.exp(intercept + pm.math.dot(X_5_shared, beta))\n",
    "    mu_6 = pm.math.exp(intercept + pm.math.dot(X_6_shared, beta))\n",
    "    mu_7 = pm.math.exp(intercept + pm.math.dot(X_7_shared, beta))\n",
    "    mu_8 = pm.math.exp(intercept + pm.math.dot(X_8_shared, beta))\n",
    "    mu_9 = pm.math.exp(intercept + pm.math.dot(X_9_shared, beta))\n",
    "    mu_10 = pm.math.exp(intercept + pm.math.dot(X_10_shared, beta))\n",
    "    \n",
    "    # Stack mus for the three models\n",
    "    mu = pm.math.stack([mu_1, mu_2, mu_3, mu_4, mu_5, mu_6, mu_7, mu_8, mu_9, mu_10], axis=1) # 10 count\n",
    "\n",
    "    # Poisson likelihood\n",
    "    y = pm.Poisson('y', mu=mu, observed=Y_RESHAPED) # 10 count\n",
    "\n",
    "    # Sampling from the posterior distribution\n",
    "    trace = pm.sample(10000)\n",
    "\n",
    "    # Posterior predictive checks\n",
    "    ppc = pm.sample_posterior_predictive(trace)\n",
    "    inference_data = az.from_pymc3(trace=trace, posterior_predictive=ppc)"
   ]
  },
  {
   "cell_type": "code",
   "execution_count": 44,
   "metadata": {},
   "outputs": [
    {
     "name": "stdout",
     "output_type": "stream",
     "text": [
      "L:  [66.28387775 65.76452612 68.89508815 62.17476371 67.8686861  70.45255346\n",
      " 64.38581709 74.75406389 68.40860185 53.40011282]\n"
     ]
    }
   ],
   "source": [
    "Y_new = az.summary(inference_data.posterior_predictive)[\"mean\"].values.reshape(110, 10)\n",
    "D2 = (Y_RESHAPED - Y_new) ** 2\n",
    "L = np.sqrt(np.sum(D2, axis=0) + np.std(Y_new, axis=0) ** 2)\n",
    "print(\"L: \", L)"
   ]
  },
  {
   "cell_type": "markdown",
   "metadata": {},
   "source": [
    "# Answer to B\n",
    "We'll choose the model with the lowest L value, which is the 10th model (9th index)."
   ]
  }
 ],
 "metadata": {
  "kernelspec": {
   "display_name": "env",
   "language": "python",
   "name": "python3"
  },
  "language_info": {
   "codemirror_mode": {
    "name": "ipython",
    "version": 3
   },
   "file_extension": ".py",
   "mimetype": "text/x-python",
   "name": "python",
   "nbconvert_exporter": "python",
   "pygments_lexer": "ipython3",
   "version": "3.9.5"
  }
 },
 "nbformat": 4,
 "nbformat_minor": 2
}
