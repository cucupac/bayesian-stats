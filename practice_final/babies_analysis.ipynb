{
 "cells": [
  {
   "cell_type": "code",
   "execution_count": 74,
   "metadata": {},
   "outputs": [],
   "source": [
    "import arviz as az\n",
    "import numpy as np\n",
    "import pymc3 as pm"
   ]
  },
  {
   "cell_type": "code",
   "execution_count": 75,
   "metadata": {},
   "outputs": [],
   "source": [
    "data_array = np.loadtxt('babies.csv', delimiter=',', skiprows=1)\n",
    "mage = data_array[:, 0]             # mother's age\n",
    "death = data_array[:, 1]            # firstborn death or not\n",
    "delta_time = data_array[:, 2]       # time between births\n",
    "\n",
    "# Standardizing the data\n",
    "mage_st = (mage - np.mean(mage)) / np.std(mage)\n",
    "delta_time_st = (delta_time - np.mean(delta_time)) / np.std(delta_time)\n"
   ]
  },
  {
   "cell_type": "code",
   "execution_count": 77,
   "metadata": {},
   "outputs": [
    {
     "name": "stderr",
     "output_type": "stream",
     "text": [
      "Auto-assigning NUTS sampler...\n",
      "Initializing NUTS using jitter+adapt_diag...\n",
      "Multiprocess sampling (4 chains in 4 jobs)\n",
      "NUTS: [tau, beta_2, beta_1, intercept]\n"
     ]
    },
    {
     "data": {
      "text/html": [
       "\n",
       "<style>\n",
       "    /* Turns off some styling */\n",
       "    progress {\n",
       "        /* gets rid of default border in Firefox and Opera. */\n",
       "        border: none;\n",
       "        /* Needs to be in here for Safari polyfill so background images work as expected. */\n",
       "        background-size: auto;\n",
       "    }\n",
       "    progress:not([value]), progress:not([value])::-webkit-progress-bar {\n",
       "        background: repeating-linear-gradient(45deg, #7e7e7e, #7e7e7e 10px, #5c5c5c 10px, #5c5c5c 20px);\n",
       "    }\n",
       "    .progress-bar-interrupted, .progress-bar-interrupted::-webkit-progress-bar {\n",
       "        background: #F44336;\n",
       "    }\n",
       "</style>\n"
      ],
      "text/plain": [
       "<IPython.core.display.HTML object>"
      ]
     },
     "metadata": {},
     "output_type": "display_data"
    },
    {
     "data": {
      "text/html": [
       "\n",
       "    <div>\n",
       "      <progress value='16000' class='' max='16000' style='width:300px; height:20px; vertical-align: middle;'></progress>\n",
       "      100.00% [16000/16000 00:07&lt;00:00 Sampling 4 chains, 0 divergences]\n",
       "    </div>\n",
       "    "
      ],
      "text/plain": [
       "<IPython.core.display.HTML object>"
      ]
     },
     "metadata": {},
     "output_type": "display_data"
    },
    {
     "name": "stderr",
     "output_type": "stream",
     "text": [
      "/Users/adamcuculich/georgia-tech/bayesian-stats/env/lib/python3.9/site-packages/scipy/stats/_continuous_distns.py:624: RuntimeWarning: overflow encountered in _beta_ppf\n",
      "  return _boost._beta_ppf(q, a, b)\n",
      "/Users/adamcuculich/georgia-tech/bayesian-stats/env/lib/python3.9/site-packages/scipy/stats/_continuous_distns.py:624: RuntimeWarning: overflow encountered in _beta_ppf\n",
      "  return _boost._beta_ppf(q, a, b)\n",
      "/Users/adamcuculich/georgia-tech/bayesian-stats/env/lib/python3.9/site-packages/scipy/stats/_continuous_distns.py:624: RuntimeWarning: overflow encountered in _beta_ppf\n",
      "  return _boost._beta_ppf(q, a, b)\n",
      "/Users/adamcuculich/georgia-tech/bayesian-stats/env/lib/python3.9/site-packages/scipy/stats/_continuous_distns.py:624: RuntimeWarning: overflow encountered in _beta_ppf\n",
      "  return _boost._beta_ppf(q, a, b)\n",
      "Sampling 4 chains for 1_000 tune and 3_000 draw iterations (4_000 + 12_000 draws total) took 12 seconds.\n"
     ]
    }
   ],
   "source": [
    "with pm.Model() as model:\n",
    "    # Data\n",
    "    mage_st_data = pm.Data('mage_data', mage_st)\n",
    "    death_data = pm.Data('death_data', death)\n",
    "    delta_time_st_data = pm.Data('delta_time_data', delta_time_st)\n",
    "\n",
    "    # Priors\n",
    "    intercept = pm.Normal('intercept', mu=0, sigma=10)\n",
    "    beta_1 = pm.Normal('beta_1', mu=0, sigma=10)\n",
    "    beta_2 = pm.Normal('beta_2', mu=0, sigma=10)\n",
    "    tau = pm.Gamma('tau', alpha=0.001, beta=0.001)\n",
    "\n",
    "    # Linear regression equation\n",
    "    mu = intercept + beta_1 * mage_st_data + beta_2 * death_data\n",
    "\n",
    "    # Likelihood (sampling distribution) of observations\n",
    "    likelihood = pm.Normal('likelihood', mu=mu, tau=tau, observed=delta_time_st_data)\n",
    "\n",
    "    # Inference\n",
    "    trace = pm.sample(3000, target_accept=0.95)"
   ]
  },
  {
   "cell_type": "code",
   "execution_count": 24,
   "metadata": {},
   "outputs": [
    {
     "name": "stderr",
     "output_type": "stream",
     "text": [
      "Got error No model on context stack. trying to find log_likelihood in translation.\n",
      "/Users/adamcuculich/georgia-tech/bayesian-stats/env/lib/python3.9/site-packages/arviz/data/io_pymc3_3x.py:98: FutureWarning: Using `from_pymc3` without the model will be deprecated in a future release. Not using the model will return less accurate and less useful results. Make sure you use the model argument or call from_pymc3 within a model context.\n",
      "  warnings.warn(\n"
     ]
    },
    {
     "data": {
      "text/html": [
       "<div>\n",
       "<style scoped>\n",
       "    .dataframe tbody tr th:only-of-type {\n",
       "        vertical-align: middle;\n",
       "    }\n",
       "\n",
       "    .dataframe tbody tr th {\n",
       "        vertical-align: top;\n",
       "    }\n",
       "\n",
       "    .dataframe thead th {\n",
       "        text-align: right;\n",
       "    }\n",
       "</style>\n",
       "<table border=\"1\" class=\"dataframe\">\n",
       "  <thead>\n",
       "    <tr style=\"text-align: right;\">\n",
       "      <th></th>\n",
       "      <th>mean</th>\n",
       "      <th>sd</th>\n",
       "      <th>hdi_3%</th>\n",
       "      <th>hdi_97%</th>\n",
       "      <th>mcse_mean</th>\n",
       "      <th>mcse_sd</th>\n",
       "      <th>ess_bulk</th>\n",
       "      <th>ess_tail</th>\n",
       "      <th>r_hat</th>\n",
       "    </tr>\n",
       "  </thead>\n",
       "  <tbody>\n",
       "    <tr>\n",
       "      <th>intercept</th>\n",
       "      <td>0.009</td>\n",
       "      <td>0.007</td>\n",
       "      <td>-0.005</td>\n",
       "      <td>0.023</td>\n",
       "      <td>0.000</td>\n",
       "      <td>0.0</td>\n",
       "      <td>14019.0</td>\n",
       "      <td>8955.0</td>\n",
       "      <td>1.0</td>\n",
       "    </tr>\n",
       "    <tr>\n",
       "      <th>beta_1</th>\n",
       "      <td>-0.285</td>\n",
       "      <td>0.007</td>\n",
       "      <td>-0.299</td>\n",
       "      <td>-0.271</td>\n",
       "      <td>0.000</td>\n",
       "      <td>0.0</td>\n",
       "      <td>15135.0</td>\n",
       "      <td>8150.0</td>\n",
       "      <td>1.0</td>\n",
       "    </tr>\n",
       "    <tr>\n",
       "      <th>beta_2</th>\n",
       "      <td>-0.973</td>\n",
       "      <td>0.077</td>\n",
       "      <td>-1.121</td>\n",
       "      <td>-0.835</td>\n",
       "      <td>0.001</td>\n",
       "      <td>0.0</td>\n",
       "      <td>14800.0</td>\n",
       "      <td>9051.0</td>\n",
       "      <td>1.0</td>\n",
       "    </tr>\n",
       "    <tr>\n",
       "      <th>tau</th>\n",
       "      <td>1.097</td>\n",
       "      <td>0.012</td>\n",
       "      <td>1.075</td>\n",
       "      <td>1.120</td>\n",
       "      <td>0.000</td>\n",
       "      <td>0.0</td>\n",
       "      <td>13380.0</td>\n",
       "      <td>7941.0</td>\n",
       "      <td>1.0</td>\n",
       "    </tr>\n",
       "  </tbody>\n",
       "</table>\n",
       "</div>"
      ],
      "text/plain": [
       "            mean     sd  hdi_3%  hdi_97%  mcse_mean  mcse_sd  ess_bulk  \\\n",
       "intercept  0.009  0.007  -0.005    0.023      0.000      0.0   14019.0   \n",
       "beta_1    -0.285  0.007  -0.299   -0.271      0.000      0.0   15135.0   \n",
       "beta_2    -0.973  0.077  -1.121   -0.835      0.001      0.0   14800.0   \n",
       "tau        1.097  0.012   1.075    1.120      0.000      0.0   13380.0   \n",
       "\n",
       "           ess_tail  r_hat  \n",
       "intercept    8955.0    1.0  \n",
       "beta_1       8150.0    1.0  \n",
       "beta_2       9051.0    1.0  \n",
       "tau          7941.0    1.0  "
      ]
     },
     "execution_count": 24,
     "metadata": {},
     "output_type": "execute_result"
    }
   ],
   "source": [
    "az.summary(trace)"
   ]
  },
  {
   "cell_type": "markdown",
   "metadata": {},
   "source": [
    "# Prediction"
   ]
  },
  {
   "cell_type": "code",
   "execution_count": 70,
   "metadata": {},
   "outputs": [
    {
     "data": {
      "text/html": [
       "\n",
       "<style>\n",
       "    /* Turns off some styling */\n",
       "    progress {\n",
       "        /* gets rid of default border in Firefox and Opera. */\n",
       "        border: none;\n",
       "        /* Needs to be in here for Safari polyfill so background images work as expected. */\n",
       "        background-size: auto;\n",
       "    }\n",
       "    progress:not([value]), progress:not([value])::-webkit-progress-bar {\n",
       "        background: repeating-linear-gradient(45deg, #7e7e7e, #7e7e7e 10px, #5c5c5c 10px, #5c5c5c 20px);\n",
       "    }\n",
       "    .progress-bar-interrupted, .progress-bar-interrupted::-webkit-progress-bar {\n",
       "        background: #F44336;\n",
       "    }\n",
       "</style>\n"
      ],
      "text/plain": [
       "<IPython.core.display.HTML object>"
      ]
     },
     "metadata": {},
     "output_type": "display_data"
    },
    {
     "data": {
      "text/html": [
       "\n",
       "    <div>\n",
       "      <progress value='12000' class='' max='12000' style='width:300px; height:20px; vertical-align: middle;'></progress>\n",
       "      100.00% [12000/12000 00:39&lt;00:00]\n",
       "    </div>\n",
       "    "
      ],
      "text/plain": [
       "<IPython.core.display.HTML object>"
      ]
     },
     "metadata": {},
     "output_type": "display_data"
    }
   ],
   "source": [
    "# Standardize Sofie's age\n",
    "sofie_mage_std = (24 - np.mean(mage)) / np.std(mage)\n",
    "\n",
    "sofie = {\"mage_data\": np.array([sofie_mage_std]), \"death_data\": np.array([0])}\n",
    "\n",
    "pm.set_data(sofie, model=model)\n",
    "ppc = pm.sample_posterior_predictive(trace, model=model)\n",
    "summary = az.summary(ppc, hdi_prob=0.95, kind=\"stats\").mean()\n",
    "summary\n"
   ]
  },
  {
   "cell_type": "code",
   "execution_count": 71,
   "metadata": {},
   "outputs": [
    {
     "name": "stdout",
     "output_type": "stream",
     "text": [
      "Unstandardized Mean: 956.3636408657428\n",
      "95% CI for predicted time (low): 155.6046814797537\n",
      "95% CI for predicted time (high): 1758.4072402935276\n"
     ]
    }
   ],
   "source": [
    "# Calculate the mean and standard deviation of the original delta_time data\n",
    "original_mean = np.mean(delta_time)\n",
    "original_std = np.std(delta_time)\n",
    "\n",
    "# Unstandardize the mean\n",
    "unstandardized_mean = (summary['mean'] * original_std) + original_mean\n",
    "\n",
    "# Unstandardize the HDI\n",
    "unstandardized_hdi_low = (summary['hdi_2.5%'] * original_std) + original_mean\n",
    "unstandardized_hdi_high = (summary['hdi_97.5%'] * original_std) + original_mean\n",
    "\n",
    "print(\"Unstandardized Mean:\", unstandardized_mean)\n",
    "print(\"95% CI for predicted time (low):\", unstandardized_hdi_low)\n",
    "print(\"95% CI for predicted time (high):\", unstandardized_hdi_high)"
   ]
  },
  {
   "cell_type": "markdown",
   "metadata": {},
   "source": [
    "[A]: the 95% credible set for beta_2 is [-1.126,-0.834]. It's signifcant as the range is relatively narrow, and the min and max are both well below 0.\n",
    "\n",
    "[B]: The derivative in of the regression function with respect to mage is beta_1. The value of beta_1 i -0.285, with high confidence. This coefficient value is signifantly smaller than that of the death covariate (over 3 times smaller), and therefore accounts for significantly less influence on the time.\n",
    "\n",
    "[C]: 956.329718983197 days.\n",
    "\n",
    "[D]: "
   ]
  },
  {
   "cell_type": "code",
   "execution_count": 72,
   "metadata": {},
   "outputs": [
    {
     "data": {
      "text/html": [
       "\n",
       "<style>\n",
       "    /* Turns off some styling */\n",
       "    progress {\n",
       "        /* gets rid of default border in Firefox and Opera. */\n",
       "        border: none;\n",
       "        /* Needs to be in here for Safari polyfill so background images work as expected. */\n",
       "        background-size: auto;\n",
       "    }\n",
       "    progress:not([value]), progress:not([value])::-webkit-progress-bar {\n",
       "        background: repeating-linear-gradient(45deg, #7e7e7e, #7e7e7e 10px, #5c5c5c 10px, #5c5c5c 20px);\n",
       "    }\n",
       "    .progress-bar-interrupted, .progress-bar-interrupted::-webkit-progress-bar {\n",
       "        background: #F44336;\n",
       "    }\n",
       "</style>\n"
      ],
      "text/plain": [
       "<IPython.core.display.HTML object>"
      ]
     },
     "metadata": {},
     "output_type": "display_data"
    },
    {
     "data": {
      "text/html": [
       "\n",
       "    <div>\n",
       "      <progress value='12000' class='' max='12000' style='width:300px; height:20px; vertical-align: middle;'></progress>\n",
       "      100.00% [12000/12000 00:39&lt;00:00]\n",
       "    </div>\n",
       "    "
      ],
      "text/plain": [
       "<IPython.core.display.HTML object>"
      ]
     },
     "metadata": {},
     "output_type": "display_data"
    }
   ],
   "source": [
    "# Standardize Sofie's age\n",
    "ingerid_mage_std = (28 - np.mean(mage)) / np.std(mage)\n",
    "\n",
    "ingerid = {\"mage_data\": np.array([ingerid_mage_std]), \"death_data\": np.array([1])}\n",
    "\n",
    "pm.set_data(ingerid, model=model)\n",
    "ppc = pm.sample_posterior_predictive(trace, model=model)\n",
    "summary = az.summary(ppc, hdi_prob=0.95, kind=\"stats\").mean()\n",
    "summary"
   ]
  },
  {
   "cell_type": "code",
   "execution_count": 73,
   "metadata": {},
   "outputs": [
    {
     "name": "stdout",
     "output_type": "stream",
     "text": [
      "Unstandardized Mean: 317.8975400932777\n",
      "95% CI for predicted time (low): -485.43069937630287\n",
      "95% CI for predicted time (high): 1122.938632951919\n"
     ]
    }
   ],
   "source": [
    "# Calculate the mean and standard deviation of the original delta_time data\n",
    "original_mean = np.mean(delta_time)\n",
    "original_std = np.std(delta_time)\n",
    "\n",
    "# Unstandardize the mean\n",
    "unstandardized_mean = (summary['mean'] * original_std) + original_mean\n",
    "\n",
    "# Unstandardize the HDI\n",
    "unstandardized_hdi_low = (summary['hdi_2.5%'] * original_std) + original_mean\n",
    "unstandardized_hdi_high = (summary['hdi_97.5%'] * original_std) + original_mean\n",
    "\n",
    "print(\"Unstandardized Mean:\", unstandardized_mean)\n",
    "print(\"95% CI for predicted time (low):\", unstandardized_hdi_low)\n",
    "print(\"95% CI for predicted time (high):\", unstandardized_hdi_high)"
   ]
  },
  {
   "cell_type": "markdown",
   "metadata": {},
   "source": [
    "# Answers\n",
    "\n",
    "[A]: the 95% credible set for beta_2 is [-1.126,-0.834]. It's signifcant as the range is relatively narrow, and the min and max are both well below 0.\n",
    "\n",
    "[B]: The derivative in of the regression function with respect to mage is beta_1. The value of beta_1 i -0.285, with high confidence. This coefficient value is signifantly smaller than that of the death covariate (over 3 times smaller), and therefore accounts for significantly less influence on the time.\n",
    "\n",
    "[C]: 956.329718983197 days.\n",
    "\n",
    "[D]: Mean: 317.89 days; Credible set: [-485.43069937630287,1122.938632951919]."
   ]
  }
 ],
 "metadata": {
  "kernelspec": {
   "display_name": "env",
   "language": "python",
   "name": "python3"
  },
  "language_info": {
   "codemirror_mode": {
    "name": "ipython",
    "version": 3
   },
   "file_extension": ".py",
   "mimetype": "text/x-python",
   "name": "python",
   "nbconvert_exporter": "python",
   "pygments_lexer": "ipython3",
   "version": "3.9.5"
  }
 },
 "nbformat": 4,
 "nbformat_minor": 2
}
