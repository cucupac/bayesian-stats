{
 "cells": [
  {
   "cell_type": "code",
   "execution_count": 36,
   "metadata": {},
   "outputs": [],
   "source": [
    "import pandas as pd\n",
    "import numpy as np\n",
    "import pymc3 as pm\n",
    "from pytensor.tensor import subtensor as st"
   ]
  },
  {
   "cell_type": "code",
   "execution_count": 29,
   "metadata": {},
   "outputs": [
    {
     "data": {
      "text/html": [
       "<div>\n",
       "<style scoped>\n",
       "    .dataframe tbody tr th:only-of-type {\n",
       "        vertical-align: middle;\n",
       "    }\n",
       "\n",
       "    .dataframe tbody tr th {\n",
       "        vertical-align: top;\n",
       "    }\n",
       "\n",
       "    .dataframe thead th {\n",
       "        text-align: right;\n",
       "    }\n",
       "</style>\n",
       "<table border=\"1\" class=\"dataframe\">\n",
       "  <thead>\n",
       "    <tr style=\"text-align: right;\">\n",
       "      <th></th>\n",
       "      <th>Season</th>\n",
       "      <th>Seeded</th>\n",
       "      <th>DIFF</th>\n",
       "    </tr>\n",
       "  </thead>\n",
       "  <tbody>\n",
       "    <tr>\n",
       "      <th>0</th>\n",
       "      <td>Autumn</td>\n",
       "      <td>S</td>\n",
       "      <td>0.450</td>\n",
       "    </tr>\n",
       "    <tr>\n",
       "      <th>1</th>\n",
       "      <td>Autumn</td>\n",
       "      <td>U</td>\n",
       "      <td>-0.397</td>\n",
       "    </tr>\n",
       "    <tr>\n",
       "      <th>2</th>\n",
       "      <td>Winter</td>\n",
       "      <td>S</td>\n",
       "      <td>-0.768</td>\n",
       "    </tr>\n",
       "    <tr>\n",
       "      <th>3</th>\n",
       "      <td>Winter</td>\n",
       "      <td>U</td>\n",
       "      <td>-1.035</td>\n",
       "    </tr>\n",
       "    <tr>\n",
       "      <th>4</th>\n",
       "      <td>Winter</td>\n",
       "      <td>S</td>\n",
       "      <td>-0.562</td>\n",
       "    </tr>\n",
       "  </tbody>\n",
       "</table>\n",
       "</div>"
      ],
      "text/plain": [
       "   Season Seeded   DIFF\n",
       "0  Autumn      S  0.450\n",
       "1  Autumn      U -0.397\n",
       "2  Winter      S -0.768\n",
       "3  Winter      U -1.035\n",
       "4  Winter      S -0.562"
      ]
     },
     "execution_count": 29,
     "metadata": {},
     "output_type": "execute_result"
    }
   ],
   "source": [
    "q2_data = pd.read_csv(\"clouds.csv\")\n",
    "q2_data.loc[:, [\"Season\", \"Seeded\", \"DIFF\"]].head()"
   ]
  },
  {
   "cell_type": "code",
   "execution_count": 30,
   "metadata": {},
   "outputs": [
    {
     "data": {
      "text/plain": [
       "array([0, 0, 3, 3, 3, 3, 3, 3, 1, 1, 1, 1, 1, 1, 2, 2, 2, 2, 2, 2, 0, 0,\n",
       "       0, 0, 0, 0, 3, 3, 3, 3, 3, 3, 3, 3, 1, 1, 1, 1, 1, 1, 2, 2, 1, 1,\n",
       "       1, 1, 1, 1, 2, 2, 2, 2, 2, 2, 2, 2, 0, 0, 0, 0, 0, 0, 0, 0, 3, 3,\n",
       "       3, 3, 3, 3, 1, 1, 1, 1, 1, 1, 2, 2, 2, 2, 2, 2, 2, 2, 0, 0, 0, 0,\n",
       "       0, 0, 0, 0, 3, 3, 3, 3, 3, 3, 3, 3, 1, 1, 1, 1, 1, 1, 1, 1],\n",
       "      dtype=int8)"
      ]
     },
     "execution_count": 30,
     "metadata": {},
     "output_type": "execute_result"
    }
   ],
   "source": [
    "season = pd.Categorical(q2_data[\"Season\"]).codes\n",
    "seeded = pd.Categorical(q2_data[\"Seeded\"]).codes\n",
    "rain_diff = q2_data[\"DIFF\"].to_numpy()\n",
    "\n",
    "season"
   ]
  },
  {
   "cell_type": "code",
   "execution_count": 31,
   "metadata": {},
   "outputs": [
    {
     "data": {
      "text/plain": [
       "array([0, 1])"
      ]
     },
     "execution_count": 31,
     "metadata": {},
     "output_type": "execute_result"
    }
   ],
   "source": [
    "seasons, _ = pd.factorize(q2_data[\"Season\"])\n",
    "seeded, _ = pd.factorize(q2_data[\"Seeded\"])\n",
    "\n",
    "np.unique(seeded)"
   ]
  },
  {
   "cell_type": "code",
   "execution_count": 32,
   "metadata": {},
   "outputs": [
    {
     "data": {
      "text/plain": [
       "{'season_cats': array([0, 1, 2, 3]),\n",
       " 'seeded_cats': array([0, 1]),\n",
       " 'idx': RangeIndex(start=0, stop=108, step=1)}"
      ]
     },
     "execution_count": 32,
     "metadata": {},
     "output_type": "execute_result"
    }
   ],
   "source": [
    "coords = {\n",
    "    \"season_cats\": np.unique(seasons),\n",
    "    \"seeded_cats\": np.unique(seeded),\n",
    "    \"idx\": q2_data[\"Seeded\"].index,\n",
    "}\n",
    "\n",
    "coords"
   ]
  },
  {
   "cell_type": "code",
   "execution_count": 34,
   "metadata": {},
   "outputs": [],
   "source": [
    "def differences(var, index):\n",
    "    \"\"\"Calculate differences between levels with names like \"alpha[low] - alpha[high]\".\n",
    "\n",
    "    var: pytensor.tensor.var.TensorVariable\n",
    "    index: pandas.Index\n",
    "    \"\"\"\n",
    "    name = var.name\n",
    "    count = 0\n",
    "    for i, j in combinations(range(index.size), 2):\n",
    "        a, b = index[i], index[j]\n",
    "        pm.Deterministic(f\"{name}[{a}] - {name}[{b}]\", var[i] - var[j])\n",
    "        count += 1"
   ]
  },
  {
   "cell_type": "markdown",
   "metadata": {},
   "source": [
    "# Model"
   ]
  },
  {
   "cell_type": "code",
   "execution_count": 37,
   "metadata": {},
   "outputs": [
    {
     "ename": "NotImplementedError",
     "evalue": "Cannot convert Subtensor{int64}.0 to a tensor variable.",
     "output_type": "error",
     "traceback": [
      "\u001b[0;31m---------------------------------------------------------------------------\u001b[0m",
      "\u001b[0;31mNotImplementedError\u001b[0m                       Traceback (most recent call last)",
      "\u001b[1;32m/Users/adamcuculich/georgia-tech/bayesian-stats/practice_final/clouds_analysis.ipynb Cell 8\u001b[0m line \u001b[0;36m1\n\u001b[1;32m     <a href='vscode-notebook-cell:/Users/adamcuculich/georgia-tech/bayesian-stats/practice_final/clouds_analysis.ipynb#W6sZmlsZQ%3D%3D?line=9'>10</a>\u001b[0m sigma \u001b[39m=\u001b[39m pm\u001b[39m.\u001b[39mExponential(\u001b[39m\"\u001b[39m\u001b[39msigma\u001b[39m\u001b[39m\"\u001b[39m, \u001b[39m0.05\u001b[39m)\n\u001b[1;32m     <a href='vscode-notebook-cell:/Users/adamcuculich/georgia-tech/bayesian-stats/practice_final/clouds_analysis.ipynb#W6sZmlsZQ%3D%3D?line=11'>12</a>\u001b[0m \u001b[39m# stz constraints\u001b[39;00m\n\u001b[1;32m     <a href='vscode-notebook-cell:/Users/adamcuculich/georgia-tech/bayesian-stats/practice_final/clouds_analysis.ipynb#W6sZmlsZQ%3D%3D?line=12'>13</a>\u001b[0m alpha \u001b[39m=\u001b[39m pm\u001b[39m.\u001b[39mDeterministic(\n\u001b[0;32m---> <a href='vscode-notebook-cell:/Users/adamcuculich/georgia-tech/bayesian-stats/practice_final/clouds_analysis.ipynb#W6sZmlsZQ%3D%3D?line=13'>14</a>\u001b[0m     \u001b[39m\"\u001b[39m\u001b[39malpha\u001b[39m\u001b[39m\"\u001b[39m, st\u001b[39m.\u001b[39;49mset_subtensor(_alpha[\u001b[39m0\u001b[39;49m], \u001b[39m-\u001b[39;49mpm\u001b[39m.\u001b[39;49mmath\u001b[39m.\u001b[39;49msum(_alpha[\u001b[39m1\u001b[39;49m:]))\n\u001b[1;32m     <a href='vscode-notebook-cell:/Users/adamcuculich/georgia-tech/bayesian-stats/practice_final/clouds_analysis.ipynb#W6sZmlsZQ%3D%3D?line=14'>15</a>\u001b[0m )\n\u001b[1;32m     <a href='vscode-notebook-cell:/Users/adamcuculich/georgia-tech/bayesian-stats/practice_final/clouds_analysis.ipynb#W6sZmlsZQ%3D%3D?line=15'>16</a>\u001b[0m beta \u001b[39m=\u001b[39m pm\u001b[39m.\u001b[39mDeterministic(\u001b[39m\"\u001b[39m\u001b[39mbeta\u001b[39m\u001b[39m\"\u001b[39m, st\u001b[39m.\u001b[39mset_subtensor(_beta[\u001b[39m0\u001b[39m], \u001b[39m-\u001b[39mpm\u001b[39m.\u001b[39mmath\u001b[39m.\u001b[39msum(_beta[\u001b[39m1\u001b[39m:])))\n\u001b[1;32m     <a href='vscode-notebook-cell:/Users/adamcuculich/georgia-tech/bayesian-stats/practice_final/clouds_analysis.ipynb#W6sZmlsZQ%3D%3D?line=17'>18</a>\u001b[0m mu \u001b[39m=\u001b[39m mu0 \u001b[39m+\u001b[39m alpha[season_data] \u001b[39m+\u001b[39m beta[seeded_data]\n",
      "File \u001b[0;32m~/georgia-tech/bayesian-stats/env/lib/python3.9/site-packages/pytensor/tensor/subtensor.py:1307\u001b[0m, in \u001b[0;36mset_subtensor\u001b[0;34m(x, y, inplace, tolerate_inplace_aliasing)\u001b[0m\n\u001b[1;32m   1286\u001b[0m \u001b[39mdef\u001b[39;00m \u001b[39mset_subtensor\u001b[39m(x, y, inplace\u001b[39m=\u001b[39m\u001b[39mFalse\u001b[39;00m, tolerate_inplace_aliasing\u001b[39m=\u001b[39m\u001b[39mFalse\u001b[39;00m):\n\u001b[1;32m   1287\u001b[0m \u001b[39m    \u001b[39m\u001b[39m\"\"\"\u001b[39;00m\n\u001b[1;32m   1288\u001b[0m \u001b[39m    Return x with the given subtensor overwritten by y.\u001b[39;00m\n\u001b[1;32m   1289\u001b[0m \n\u001b[0;32m   (...)\u001b[0m\n\u001b[1;32m   1305\u001b[0m \n\u001b[1;32m   1306\u001b[0m \u001b[39m    \"\"\"\u001b[39;00m\n\u001b[0;32m-> 1307\u001b[0m     \u001b[39mreturn\u001b[39;00m inc_subtensor(\n\u001b[1;32m   1308\u001b[0m         x,\n\u001b[1;32m   1309\u001b[0m         y,\n\u001b[1;32m   1310\u001b[0m         inplace,\n\u001b[1;32m   1311\u001b[0m         set_instead_of_inc\u001b[39m=\u001b[39;49m\u001b[39mTrue\u001b[39;49;00m,\n\u001b[1;32m   1312\u001b[0m         tolerate_inplace_aliasing\u001b[39m=\u001b[39;49mtolerate_inplace_aliasing,\n\u001b[1;32m   1313\u001b[0m     )\n",
      "File \u001b[0;32m~/georgia-tech/bayesian-stats/env/lib/python3.9/site-packages/pytensor/tensor/subtensor.py:1371\u001b[0m, in \u001b[0;36minc_subtensor\u001b[0;34m(x, y, inplace, set_instead_of_inc, tolerate_inplace_aliasing, ignore_duplicates)\u001b[0m\n\u001b[1;32m   1324\u001b[0m \u001b[39m\u001b[39m\u001b[39m\"\"\"Update the value of an indexed array by a given amount.\u001b[39;00m\n\u001b[1;32m   1325\u001b[0m \n\u001b[1;32m   1326\u001b[0m \u001b[39mThis is equivalent to ``x[indices] += y`` or ``np.add.at(x, indices, y)``,\u001b[39;00m\n\u001b[0;32m   (...)\u001b[0m\n\u001b[1;32m   1366\u001b[0m \n\u001b[1;32m   1367\u001b[0m \u001b[39m\"\"\"\u001b[39;00m\n\u001b[1;32m   1368\u001b[0m \u001b[39m# First of all, y cannot have a higher dimension than x,\u001b[39;00m\n\u001b[1;32m   1369\u001b[0m \u001b[39m# nor have non-broadcastable dimensions where x is broadcastable.\u001b[39;00m\n\u001b[0;32m-> 1371\u001b[0m x \u001b[39m=\u001b[39m as_tensor_variable(x)\n\u001b[1;32m   1372\u001b[0m y \u001b[39m=\u001b[39m as_tensor_variable(y)\n\u001b[1;32m   1374\u001b[0m \u001b[39mif\u001b[39;00m y\u001b[39m.\u001b[39mndim \u001b[39m>\u001b[39m x\u001b[39m.\u001b[39mndim:\n",
      "File \u001b[0;32m~/georgia-tech/bayesian-stats/env/lib/python3.9/site-packages/pytensor/tensor/__init__.py:50\u001b[0m, in \u001b[0;36mas_tensor_variable\u001b[0;34m(x, name, ndim, **kwargs)\u001b[0m\n\u001b[1;32m     18\u001b[0m \u001b[39mdef\u001b[39;00m \u001b[39mas_tensor_variable\u001b[39m(\n\u001b[1;32m     19\u001b[0m     x: TensorLike, name: Optional[\u001b[39mstr\u001b[39m] \u001b[39m=\u001b[39m \u001b[39mNone\u001b[39;00m, ndim: Optional[\u001b[39mint\u001b[39m] \u001b[39m=\u001b[39m \u001b[39mNone\u001b[39;00m, \u001b[39m*\u001b[39m\u001b[39m*\u001b[39mkwargs\n\u001b[1;32m     20\u001b[0m ) \u001b[39m-\u001b[39m\u001b[39m>\u001b[39m \u001b[39m\"\u001b[39m\u001b[39mTensorVariable\u001b[39m\u001b[39m\"\u001b[39m:\n\u001b[1;32m     21\u001b[0m \u001b[39m    \u001b[39m\u001b[39m\"\"\"Convert `x` into an equivalent `TensorVariable`.\u001b[39;00m\n\u001b[1;32m     22\u001b[0m \n\u001b[1;32m     23\u001b[0m \u001b[39m    This function can be used to turn ndarrays, numbers, `ScalarType` instances,\u001b[39;00m\n\u001b[0;32m   (...)\u001b[0m\n\u001b[1;32m     48\u001b[0m \n\u001b[1;32m     49\u001b[0m \u001b[39m    \"\"\"\u001b[39;00m\n\u001b[0;32m---> 50\u001b[0m     \u001b[39mreturn\u001b[39;00m _as_tensor_variable(x, name, ndim, \u001b[39m*\u001b[39;49m\u001b[39m*\u001b[39;49mkwargs)\n",
      "File \u001b[0;32m/Library/Frameworks/Python.framework/Versions/3.9/lib/python3.9/functools.py:877\u001b[0m, in \u001b[0;36msingledispatch.<locals>.wrapper\u001b[0;34m(*args, **kw)\u001b[0m\n\u001b[1;32m    873\u001b[0m \u001b[39mif\u001b[39;00m \u001b[39mnot\u001b[39;00m args:\n\u001b[1;32m    874\u001b[0m     \u001b[39mraise\u001b[39;00m \u001b[39mTypeError\u001b[39;00m(\u001b[39mf\u001b[39m\u001b[39m'\u001b[39m\u001b[39m{\u001b[39;00mfuncname\u001b[39m}\u001b[39;00m\u001b[39m requires at least \u001b[39m\u001b[39m'\u001b[39m\n\u001b[1;32m    875\u001b[0m                     \u001b[39m'\u001b[39m\u001b[39m1 positional argument\u001b[39m\u001b[39m'\u001b[39m)\n\u001b[0;32m--> 877\u001b[0m \u001b[39mreturn\u001b[39;00m dispatch(args[\u001b[39m0\u001b[39;49m]\u001b[39m.\u001b[39;49m\u001b[39m__class__\u001b[39;49m)(\u001b[39m*\u001b[39;49margs, \u001b[39m*\u001b[39;49m\u001b[39m*\u001b[39;49mkw)\n",
      "File \u001b[0;32m~/georgia-tech/bayesian-stats/env/lib/python3.9/site-packages/pytensor/tensor/__init__.py:57\u001b[0m, in \u001b[0;36m_as_tensor_variable\u001b[0;34m(x, name, ndim, **kwargs)\u001b[0m\n\u001b[1;32m     53\u001b[0m \u001b[39m@singledispatch\u001b[39m\n\u001b[1;32m     54\u001b[0m \u001b[39mdef\u001b[39;00m \u001b[39m_as_tensor_variable\u001b[39m(\n\u001b[1;32m     55\u001b[0m     x: TensorLike, name: Optional[\u001b[39mstr\u001b[39m], ndim: Optional[\u001b[39mint\u001b[39m], \u001b[39m*\u001b[39m\u001b[39m*\u001b[39mkwargs\n\u001b[1;32m     56\u001b[0m ) \u001b[39m-\u001b[39m\u001b[39m>\u001b[39m \u001b[39m\"\u001b[39m\u001b[39mTensorVariable\u001b[39m\u001b[39m\"\u001b[39m:\n\u001b[0;32m---> 57\u001b[0m     \u001b[39mraise\u001b[39;00m \u001b[39mNotImplementedError\u001b[39;00m(\u001b[39mf\u001b[39m\u001b[39m\"\u001b[39m\u001b[39mCannot convert \u001b[39m\u001b[39m{\u001b[39;00mx\u001b[39m!r}\u001b[39;00m\u001b[39m to a tensor variable.\u001b[39m\u001b[39m\"\u001b[39m)\n",
      "\u001b[0;31mNotImplementedError\u001b[0m: Cannot convert Subtensor{int64}.0 to a tensor variable."
     ]
    }
   ],
   "source": [
    "with pm.Model(coords=coords) as m:\n",
    "    season_data = pm.Data(\"season\", seasons, dims=\"idx\")\n",
    "    seeded_data = pm.Data(\"seeded\", seeded, dims=\"idx\")\n",
    "    diff_data = pm.Data(\"diff\", rain_diff, dims=\"idx\")\n",
    "\n",
    "    mu0 = pm.Normal(\"mu0\", 0, tau=0.01)\n",
    "    _alpha = pm.Normal(\"_alpha\", 0, tau=0.01, dims=\"season_cats\")\n",
    "    _beta = pm.Normal(\"_beta\", 0, tau=0.01, dims=\"seeded_cats\")\n",
    "\n",
    "    sigma = pm.Exponential(\"sigma\", 0.05)\n",
    "\n",
    "    # stz constraints\n",
    "    alpha = pm.Deterministic(\n",
    "        \"alpha\", st.set_subtensor(_alpha[0], -pm.math.sum(_alpha[1:]))\n",
    "    )\n",
    "    beta = pm.Deterministic(\"beta\", st.set_subtensor(_beta[0], -pm.math.sum(_beta[1:])))\n",
    "\n",
    "    mu = mu0 + alpha[season_data] + beta[seeded_data]\n",
    "\n",
    "    pm.Normal(\"likelihood\", mu, sigma, observed=rain_diff)\n",
    "\n",
    "    differences(alpha, coords[\"season_cats\"])\n",
    "    differences(beta, coords[\"seeded_cats\"])\n",
    "\n",
    "    trace = pm.sample(2000)"
   ]
  },
  {
   "cell_type": "code",
   "execution_count": null,
   "metadata": {},
   "outputs": [],
   "source": [
    "az.summary(trace, var_names=\"~_\", filter_vars=\"like\", kind=\"stats\", hdi_prob=0.95)"
   ]
  }
 ],
 "metadata": {
  "kernelspec": {
   "display_name": "env",
   "language": "python",
   "name": "python3"
  },
  "language_info": {
   "codemirror_mode": {
    "name": "ipython",
    "version": 3
   },
   "file_extension": ".py",
   "mimetype": "text/x-python",
   "name": "python",
   "nbconvert_exporter": "python",
   "pygments_lexer": "ipython3",
   "version": "3.9.5"
  }
 },
 "nbformat": 4,
 "nbformat_minor": 2
}
